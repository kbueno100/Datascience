{
 "cells": [
  {
   "cell_type": "markdown",
   "metadata": {
    "slideshow": {
     "slide_type": "slide"
    }
   },
   "source": [
    "# Agenda\n",
    "* Numpy\n",
    "* Pandas\n",
    "* Lab\n"
   ]
  },
  {
   "cell_type": "markdown",
   "metadata": {
    "slideshow": {
     "slide_type": "subslide"
    }
   },
   "source": [
    "# Introduction\n"
   ]
  },
  {
   "cell_type": "markdown",
   "metadata": {
    "slideshow": {
     "slide_type": "slide"
    }
   },
   "source": [
    "## Create a new notebook for your code-along:\n",
    "\n",
    "From our submission directory, type:\n",
    "    \n",
    "    ipython notebook\n",
    "\n",
    "From the IPython Dashboard, open a new notebook.\n",
    "Change the title to: \"Numpy and Pandas\""
   ]
  },
  {
   "cell_type": "markdown",
   "metadata": {
    "slideshow": {
     "slide_type": "slide"
    }
   },
   "source": [
    "# Introduction to Numpy\n",
    "\n",
    "* Overview\n",
    "* ndarray\n",
    "* Indexing and Slicing\n",
    "\n",
    "More info: [http://wiki.scipy.org/Tentative_NumPy_Tutorial](http://wiki.scipy.org/Tentative_NumPy_Tutorial)\n"
   ]
  },
  {
   "cell_type": "markdown",
   "metadata": {
    "slideshow": {
     "slide_type": "subslide"
    }
   },
   "source": [
    "## Numpy Overview\n",
    "\n",
    "* Why Python for Data? Numpy brings *decades* of C math into Python!\n",
    "* Numpy provides a wrapper for extensive C/C++/Fortran codebases, used for data analysis functionality\n",
    "* NDAarray allows easy vectorized math and broadcasting (i.e. functions for vector elements of different shapes)"
   ]
  },
  {
   "cell_type": "code",
   "execution_count": 1,
   "metadata": {
    "collapsed": false,
    "slideshow": {
     "slide_type": "subslide"
    }
   },
   "outputs": [],
   "source": [
    "import numpy as np\n",
    "\n",
    "\n",
    "#from numpy import * #Load all the numpy packages\n",
    "\n"
   ]
  },
  {
   "cell_type": "markdown",
   "metadata": {
    "slideshow": {
     "slide_type": "subslide"
    }
   },
   "source": [
    "### A Note About \"import as\"\n",
    "\n",
    "    import * \n",
    "This loads all submodules. Note: this is a waste of memory when incorporated into deployed code. \n",
    "We'll use it here by example - it's fine to use for learning purposes and legibility.\n",
    "\n",
    "As we'll see later, the proper convention is to use:\n",
    "\n",
    "    import numpy as np\n",
    "    \n",
    "And then to specifically call needed methods:\n",
    "\n",
    "![](http://note.io/1juA60F)"
   ]
  },
  {
   "cell_type": "markdown",
   "metadata": {
    "slideshow": {
     "slide_type": "subslide"
    }
   },
   "source": [
    "### Creating ndarrays"
   ]
  },
  {
   "cell_type": "markdown",
   "metadata": {
    "slideshow": {
     "slide_type": "fragment"
    }
   },
   "source": [
    "An array object represents a multidimensional, homogeneous array of fixed-size items. "
   ]
  },
  {
   "cell_type": "code",
   "execution_count": 2,
   "metadata": {
    "collapsed": true
   },
   "outputs": [],
   "source": [
    "np.random.randint?"
   ]
  },
  {
   "cell_type": "code",
   "execution_count": 4,
   "metadata": {
    "collapsed": false,
    "slideshow": {
     "slide_type": "subslide"
    }
   },
   "outputs": [],
   "source": [
    "# Creating arrays\n",
    "a = np.zeros((3))\n",
    "b = np.ones((2,3))\n",
    "c = np.random.randint(1,10,(2,3,4))\n",
    "d = np.arange(0,11,1)"
   ]
  },
  {
   "cell_type": "markdown",
   "metadata": {
    "slideshow": {
     "slide_type": "fragment"
    }
   },
   "source": [
    "What are these functions?\n",
    "\n",
    "    arange?"
   ]
  },
  {
   "cell_type": "code",
   "execution_count": 5,
   "metadata": {
    "collapsed": false,
    "slideshow": {
     "slide_type": "fragment"
    }
   },
   "outputs": [
    {
     "ename": "SyntaxError",
     "evalue": "Missing parentheses in call to 'print' (<ipython-input-5-67f2545038fc>, line 2)",
     "output_type": "error",
     "traceback": [
      "\u001b[0;36m  File \u001b[0;32m\"<ipython-input-5-67f2545038fc>\"\u001b[0;36m, line \u001b[0;32m2\u001b[0m\n\u001b[0;31m    print a\u001b[0m\n\u001b[0m          ^\u001b[0m\n\u001b[0;31mSyntaxError\u001b[0m\u001b[0;31m:\u001b[0m Missing parentheses in call to 'print'\n"
     ]
    }
   ],
   "source": [
    "# Note the way each array is printed:\n",
    "print a"
   ]
  },
  {
   "cell_type": "code",
   "execution_count": null,
   "metadata": {
    "collapsed": false
   },
   "outputs": [],
   "source": [
    "print b"
   ]
  },
  {
   "cell_type": "code",
   "execution_count": null,
   "metadata": {
    "collapsed": false
   },
   "outputs": [],
   "source": [
    "print c"
   ]
  },
  {
   "cell_type": "code",
   "execution_count": null,
   "metadata": {
    "collapsed": false
   },
   "outputs": [],
   "source": [
    "print d"
   ]
  },
  {
   "cell_type": "code",
   "execution_count": null,
   "metadata": {
    "collapsed": false,
    "slideshow": {
     "slide_type": "subslide"
    }
   },
   "outputs": [],
   "source": [
    "## Arithmetic in arrays is element wise"
   ]
  },
  {
   "cell_type": "code",
   "execution_count": null,
   "metadata": {
    "collapsed": false,
    "slideshow": {
     "slide_type": "fragment"
    }
   },
   "outputs": [],
   "source": [
    ">>> a = np.array( [20,30,40,50] )\n",
    ">>> b = np.arange( 4 )\n",
    ">>> b"
   ]
  },
  {
   "cell_type": "code",
   "execution_count": null,
   "metadata": {
    "collapsed": false,
    "slideshow": {
     "slide_type": "fragment"
    }
   },
   "outputs": [],
   "source": [
    ">>> c = a-b\n",
    ">>> c"
   ]
  },
  {
   "cell_type": "code",
   "execution_count": null,
   "metadata": {
    "collapsed": false,
    "slideshow": {
     "slide_type": "fragment"
    }
   },
   "outputs": [],
   "source": [
    ">>> b**2"
   ]
  },
  {
   "cell_type": "markdown",
   "metadata": {
    "slideshow": {
     "slide_type": "subslide"
    }
   },
   "source": [
    "## Indexing, Slicing and Iterating"
   ]
  },
  {
   "cell_type": "code",
   "execution_count": null,
   "metadata": {
    "collapsed": false,
    "slideshow": {
     "slide_type": "fragment"
    }
   },
   "outputs": [],
   "source": [
    "# one-dimensional arrays work like lists:\n",
    "a = np.arange(10)**2"
   ]
  },
  {
   "cell_type": "code",
   "execution_count": null,
   "metadata": {
    "collapsed": false,
    "slideshow": {
     "slide_type": "fragment"
    }
   },
   "outputs": [],
   "source": [
    "a"
   ]
  },
  {
   "cell_type": "code",
   "execution_count": null,
   "metadata": {
    "collapsed": false,
    "slideshow": {
     "slide_type": "fragment"
    }
   },
   "outputs": [],
   "source": [
    "a[2:5]"
   ]
  },
  {
   "cell_type": "code",
   "execution_count": null,
   "metadata": {
    "collapsed": false,
    "slideshow": {
     "slide_type": "subslide"
    }
   },
   "outputs": [],
   "source": [
    "# Multidimensional arrays use tuples with commas for indexing\n",
    "# with (row,column) conventions beginning, as always in Python, from 0"
   ]
  },
  {
   "cell_type": "code",
   "execution_count": null,
   "metadata": {
    "collapsed": false,
    "slideshow": {
     "slide_type": "fragment"
    }
   },
   "outputs": [],
   "source": [
    "b = np.random.randint(1,100,(4,4))"
   ]
  },
  {
   "cell_type": "code",
   "execution_count": null,
   "metadata": {
    "collapsed": false,
    "slideshow": {
     "slide_type": "fragment"
    }
   },
   "outputs": [],
   "source": [
    "b"
   ]
  },
  {
   "cell_type": "code",
   "execution_count": null,
   "metadata": {
    "collapsed": false,
    "slideshow": {
     "slide_type": "fragment"
    }
   },
   "outputs": [],
   "source": [
    "# Guess the output\n",
    "print(b[2,3])\n",
    "print(b[0,0])\n"
   ]
  },
  {
   "cell_type": "code",
   "execution_count": null,
   "metadata": {
    "collapsed": false,
    "slideshow": {
     "slide_type": "fragment"
    }
   },
   "outputs": [],
   "source": [
    "b[0:3,1],b[:,1]"
   ]
  },
  {
   "cell_type": "code",
   "execution_count": null,
   "metadata": {
    "collapsed": false,
    "slideshow": {
     "slide_type": "fragment"
    }
   },
   "outputs": [],
   "source": [
    "b[1:3,:]"
   ]
  },
  {
   "cell_type": "markdown",
   "metadata": {
    "slideshow": {
     "slide_type": "slide"
    }
   },
   "source": [
    "# Introduction to Pandas\n",
    "\n",
    "* Object Creation\n",
    "* Viewing data\n",
    "* Selection\n",
    "* Missing data\n",
    "* Grouping\n",
    "* Reshaping\n",
    "* Time series\n",
    "* Plotting\n",
    "* i/o\n",
    " \n",
    "\n",
    "_pandas.pydata.org_"
   ]
  },
  {
   "cell_type": "markdown",
   "metadata": {
    "slideshow": {
     "slide_type": "slide"
    }
   },
   "source": [
    "## Pandas Overview\n",
    "\n",
    "_Source: [pandas.pydata.org](http://pandas.pydata.org/pandas-docs/stable/10min.html)_"
   ]
  },
  {
   "cell_type": "code",
   "execution_count": 6,
   "metadata": {
    "collapsed": false,
    "slideshow": {
     "slide_type": "subslide"
    }
   },
   "outputs": [],
   "source": [
    "import pandas as pd\n",
    "import numpy as np\n",
    "import matplotlib.pyplot as plt\n",
    "%matplotlib inline"
   ]
  },
  {
   "cell_type": "code",
   "execution_count": 7,
   "metadata": {
    "collapsed": false
   },
   "outputs": [
    {
     "data": {
      "text/html": [
       "<div>\n",
       "<table border=\"1\" class=\"dataframe\">\n",
       "  <thead>\n",
       "    <tr style=\"text-align: right;\">\n",
       "      <th></th>\n",
       "      <th>first</th>\n",
       "      <th>second</th>\n",
       "      <th>third</th>\n",
       "      <th>fourth</th>\n",
       "    </tr>\n",
       "  </thead>\n",
       "  <tbody>\n",
       "    <tr>\n",
       "      <th>0</th>\n",
       "      <td>1.300978</td>\n",
       "      <td>-0.089389</td>\n",
       "      <td>0.630513</td>\n",
       "      <td>-1.524632</td>\n",
       "    </tr>\n",
       "    <tr>\n",
       "      <th>1</th>\n",
       "      <td>-0.283040</td>\n",
       "      <td>0.190671</td>\n",
       "      <td>-1.076985</td>\n",
       "      <td>0.372413</td>\n",
       "    </tr>\n",
       "    <tr>\n",
       "      <th>2</th>\n",
       "      <td>0.528579</td>\n",
       "      <td>-0.007233</td>\n",
       "      <td>-0.205012</td>\n",
       "      <td>1.194969</td>\n",
       "    </tr>\n",
       "    <tr>\n",
       "      <th>3</th>\n",
       "      <td>0.913482</td>\n",
       "      <td>0.735718</td>\n",
       "      <td>0.813705</td>\n",
       "      <td>0.074298</td>\n",
       "    </tr>\n",
       "    <tr>\n",
       "      <th>4</th>\n",
       "      <td>0.065765</td>\n",
       "      <td>-0.462653</td>\n",
       "      <td>1.267460</td>\n",
       "      <td>-1.876183</td>\n",
       "    </tr>\n",
       "    <tr>\n",
       "      <th>5</th>\n",
       "      <td>-1.118791</td>\n",
       "      <td>0.163899</td>\n",
       "      <td>-1.677546</td>\n",
       "      <td>-0.397881</td>\n",
       "    </tr>\n",
       "  </tbody>\n",
       "</table>\n",
       "</div>"
      ],
      "text/plain": [
       "      first    second     third    fourth\n",
       "0  1.300978 -0.089389  0.630513 -1.524632\n",
       "1 -0.283040  0.190671 -1.076985  0.372413\n",
       "2  0.528579 -0.007233 -0.205012  1.194969\n",
       "3  0.913482  0.735718  0.813705  0.074298\n",
       "4  0.065765 -0.462653  1.267460 -1.876183\n",
       "5 -1.118791  0.163899 -1.677546 -0.397881"
      ]
     },
     "execution_count": 7,
     "metadata": {},
     "output_type": "execute_result"
    }
   ],
   "source": [
    "colnames = ['first','second','third','fourth']\n",
    "df = pd.DataFrame(np.random.randn(6,4),columns=colnames)\n",
    "df"
   ]
  },
  {
   "cell_type": "code",
   "execution_count": 9,
   "metadata": {
    "collapsed": false
   },
   "outputs": [
    {
     "name": "stdout",
     "output_type": "stream",
     "text": [
      "Int64Index([0, 1, 2, 3, 4, 5], dtype='int64')\n"
     ]
    }
   ],
   "source": [
    "print (df.index)"
   ]
  },
  {
   "cell_type": "code",
   "execution_count": 10,
   "metadata": {
    "collapsed": false
   },
   "outputs": [
    {
     "name": "stdout",
     "output_type": "stream",
     "text": [
      "Index(['first', 'second', 'third', 'fourth'], dtype='object')\n"
     ]
    }
   ],
   "source": [
    "print (df.columns)"
   ]
  },
  {
   "cell_type": "code",
   "execution_count": 11,
   "metadata": {
    "collapsed": false,
    "slideshow": {
     "slide_type": "subslide"
    }
   },
   "outputs": [
    {
     "data": {
      "text/plain": [
       "DatetimeIndex(['2014-01-01', '2014-01-02', '2014-01-03', '2014-01-04',\n",
       "               '2014-01-05', '2014-01-06'],\n",
       "              dtype='datetime64[ns]', freq='D')"
      ]
     },
     "execution_count": 11,
     "metadata": {},
     "output_type": "execute_result"
    }
   ],
   "source": [
    "dates = pd.date_range('20140101',periods=6)\n",
    "dates"
   ]
  },
  {
   "cell_type": "code",
   "execution_count": 12,
   "metadata": {
    "collapsed": false,
    "slideshow": {
     "slide_type": "subslide"
    }
   },
   "outputs": [
    {
     "data": {
      "text/html": [
       "<div>\n",
       "<table border=\"1\" class=\"dataframe\">\n",
       "  <thead>\n",
       "    <tr style=\"text-align: right;\">\n",
       "      <th></th>\n",
       "      <th>A</th>\n",
       "      <th>B</th>\n",
       "      <th>C</th>\n",
       "      <th>D</th>\n",
       "    </tr>\n",
       "  </thead>\n",
       "  <tbody>\n",
       "    <tr>\n",
       "      <th>2014-01-01</th>\n",
       "      <td>-1.681371</td>\n",
       "      <td>-0.257142</td>\n",
       "      <td>0.840739</td>\n",
       "      <td>-0.498591</td>\n",
       "    </tr>\n",
       "    <tr>\n",
       "      <th>2014-01-02</th>\n",
       "      <td>-0.961338</td>\n",
       "      <td>0.394642</td>\n",
       "      <td>1.069771</td>\n",
       "      <td>-0.587708</td>\n",
       "    </tr>\n",
       "    <tr>\n",
       "      <th>2014-01-03</th>\n",
       "      <td>-0.148894</td>\n",
       "      <td>-0.012324</td>\n",
       "      <td>-1.376463</td>\n",
       "      <td>-0.580830</td>\n",
       "    </tr>\n",
       "    <tr>\n",
       "      <th>2014-01-04</th>\n",
       "      <td>-0.373968</td>\n",
       "      <td>1.213398</td>\n",
       "      <td>0.342724</td>\n",
       "      <td>-0.060573</td>\n",
       "    </tr>\n",
       "    <tr>\n",
       "      <th>2014-01-05</th>\n",
       "      <td>-1.313012</td>\n",
       "      <td>1.397064</td>\n",
       "      <td>1.053475</td>\n",
       "      <td>-1.856762</td>\n",
       "    </tr>\n",
       "    <tr>\n",
       "      <th>2014-01-06</th>\n",
       "      <td>-0.154810</td>\n",
       "      <td>-0.461192</td>\n",
       "      <td>1.137429</td>\n",
       "      <td>-0.655723</td>\n",
       "    </tr>\n",
       "  </tbody>\n",
       "</table>\n",
       "</div>"
      ],
      "text/plain": [
       "                   A         B         C         D\n",
       "2014-01-01 -1.681371 -0.257142  0.840739 -0.498591\n",
       "2014-01-02 -0.961338  0.394642  1.069771 -0.587708\n",
       "2014-01-03 -0.148894 -0.012324 -1.376463 -0.580830\n",
       "2014-01-04 -0.373968  1.213398  0.342724 -0.060573\n",
       "2014-01-05 -1.313012  1.397064  1.053475 -1.856762\n",
       "2014-01-06 -0.154810 -0.461192  1.137429 -0.655723"
      ]
     },
     "execution_count": 12,
     "metadata": {},
     "output_type": "execute_result"
    }
   ],
   "source": [
    "df = pd.DataFrame(np.random.randn(6,4),index=dates,columns=list('ABCD'))\n",
    "df"
   ]
  },
  {
   "cell_type": "code",
   "execution_count": 13,
   "metadata": {
    "collapsed": false
   },
   "outputs": [
    {
     "data": {
      "text/html": [
       "<div>\n",
       "<table border=\"1\" class=\"dataframe\">\n",
       "  <thead>\n",
       "    <tr style=\"text-align: right;\">\n",
       "      <th></th>\n",
       "      <th>A</th>\n",
       "      <th>B</th>\n",
       "      <th>C</th>\n",
       "      <th>D</th>\n",
       "    </tr>\n",
       "  </thead>\n",
       "  <tbody>\n",
       "    <tr>\n",
       "      <th>2014-01-01</th>\n",
       "      <td>NaN</td>\n",
       "      <td>NaN</td>\n",
       "      <td>NaN</td>\n",
       "      <td>NaN</td>\n",
       "    </tr>\n",
       "    <tr>\n",
       "      <th>2014-01-02</th>\n",
       "      <td>NaN</td>\n",
       "      <td>NaN</td>\n",
       "      <td>NaN</td>\n",
       "      <td>NaN</td>\n",
       "    </tr>\n",
       "    <tr>\n",
       "      <th>2014-01-03</th>\n",
       "      <td>NaN</td>\n",
       "      <td>NaN</td>\n",
       "      <td>NaN</td>\n",
       "      <td>NaN</td>\n",
       "    </tr>\n",
       "    <tr>\n",
       "      <th>2014-01-04</th>\n",
       "      <td>NaN</td>\n",
       "      <td>NaN</td>\n",
       "      <td>NaN</td>\n",
       "      <td>NaN</td>\n",
       "    </tr>\n",
       "    <tr>\n",
       "      <th>2014-01-05</th>\n",
       "      <td>NaN</td>\n",
       "      <td>NaN</td>\n",
       "      <td>NaN</td>\n",
       "      <td>NaN</td>\n",
       "    </tr>\n",
       "    <tr>\n",
       "      <th>2014-01-06</th>\n",
       "      <td>NaN</td>\n",
       "      <td>NaN</td>\n",
       "      <td>NaN</td>\n",
       "      <td>NaN</td>\n",
       "    </tr>\n",
       "  </tbody>\n",
       "</table>\n",
       "</div>"
      ],
      "text/plain": [
       "              A    B    C    D\n",
       "2014-01-01  NaN  NaN  NaN  NaN\n",
       "2014-01-02  NaN  NaN  NaN  NaN\n",
       "2014-01-03  NaN  NaN  NaN  NaN\n",
       "2014-01-04  NaN  NaN  NaN  NaN\n",
       "2014-01-05  NaN  NaN  NaN  NaN\n",
       "2014-01-06  NaN  NaN  NaN  NaN"
      ]
     },
     "execution_count": 13,
     "metadata": {},
     "output_type": "execute_result"
    }
   ],
   "source": [
    "z = pd.DataFrame(index = df.index, columns = df.columns)\n",
    "z"
   ]
  },
  {
   "cell_type": "code",
   "execution_count": 14,
   "metadata": {
    "collapsed": false,
    "slideshow": {
     "slide_type": "subslide"
    }
   },
   "outputs": [
    {
     "data": {
      "text/html": [
       "<div>\n",
       "<table border=\"1\" class=\"dataframe\">\n",
       "  <thead>\n",
       "    <tr style=\"text-align: right;\">\n",
       "      <th></th>\n",
       "      <th>A</th>\n",
       "      <th>B</th>\n",
       "      <th>C</th>\n",
       "      <th>D</th>\n",
       "    </tr>\n",
       "  </thead>\n",
       "  <tbody>\n",
       "    <tr>\n",
       "      <th>2014-01-01</th>\n",
       "      <td>-1.681371</td>\n",
       "      <td>-0.257142</td>\n",
       "      <td>0.840739</td>\n",
       "      <td>-0.498591</td>\n",
       "    </tr>\n",
       "    <tr>\n",
       "      <th>2014-01-02</th>\n",
       "      <td>-0.961338</td>\n",
       "      <td>0.394642</td>\n",
       "      <td>1.069771</td>\n",
       "      <td>-0.587708</td>\n",
       "    </tr>\n",
       "    <tr>\n",
       "      <th>2014-01-03</th>\n",
       "      <td>-0.148894</td>\n",
       "      <td>-0.012324</td>\n",
       "      <td>-1.376463</td>\n",
       "      <td>-0.580830</td>\n",
       "    </tr>\n",
       "    <tr>\n",
       "      <th>2014-01-04</th>\n",
       "      <td>-0.373968</td>\n",
       "      <td>1.213398</td>\n",
       "      <td>0.342724</td>\n",
       "      <td>-0.060573</td>\n",
       "    </tr>\n",
       "    <tr>\n",
       "      <th>2014-01-05</th>\n",
       "      <td>-1.313012</td>\n",
       "      <td>1.397064</td>\n",
       "      <td>1.053475</td>\n",
       "      <td>-1.856762</td>\n",
       "    </tr>\n",
       "    <tr>\n",
       "      <th>2014-01-06</th>\n",
       "      <td>-0.154810</td>\n",
       "      <td>-0.461192</td>\n",
       "      <td>1.137429</td>\n",
       "      <td>-0.655723</td>\n",
       "    </tr>\n",
       "  </tbody>\n",
       "</table>\n",
       "</div>"
      ],
      "text/plain": [
       "                   A         B         C         D\n",
       "2014-01-01 -1.681371 -0.257142  0.840739 -0.498591\n",
       "2014-01-02 -0.961338  0.394642  1.069771 -0.587708\n",
       "2014-01-03 -0.148894 -0.012324 -1.376463 -0.580830\n",
       "2014-01-04 -0.373968  1.213398  0.342724 -0.060573\n",
       "2014-01-05 -1.313012  1.397064  1.053475 -1.856762\n",
       "2014-01-06 -0.154810 -0.461192  1.137429 -0.655723"
      ]
     },
     "execution_count": 14,
     "metadata": {},
     "output_type": "execute_result"
    }
   ],
   "source": [
    "# Index, columns, underlying numpy data\n",
    "df.T\n",
    "df"
   ]
  },
  {
   "cell_type": "code",
   "execution_count": 15,
   "metadata": {
    "collapsed": false
   },
   "outputs": [
    {
     "data": {
      "text/plain": [
       "0   -0.147545\n",
       "1   -0.907084\n",
       "2    0.311351\n",
       "3   -1.595465\n",
       "dtype: float64"
      ]
     },
     "execution_count": 15,
     "metadata": {},
     "output_type": "execute_result"
    }
   ],
   "source": [
    "s = pd.Series(np.random.randn(4))\n",
    "s"
   ]
  },
  {
   "cell_type": "code",
   "execution_count": 16,
   "metadata": {
    "collapsed": false
   },
   "outputs": [
    {
     "data": {
      "text/plain": [
       "0    1\n",
       "1    1\n",
       "2    1\n",
       "3    1\n",
       "dtype: float32"
      ]
     },
     "execution_count": 16,
     "metadata": {},
     "output_type": "execute_result"
    }
   ],
   "source": [
    "s = pd.Series(1,index=np.arange(4),dtype='float32')\n",
    "s"
   ]
  },
  {
   "cell_type": "code",
   "execution_count": null,
   "metadata": {
    "collapsed": false,
    "slideshow": {
     "slide_type": "subslide"
    }
   },
   "outputs": [],
   "source": [
    "df2 = pd.DataFrame({'A' : 1.,\n",
    "                    'B' : pd.Timestamp('20130102'),\n",
    "                    'C' : s,\n",
    "                    'D' : np.array([3] * 4,dtype='int32'),\n",
    "                    'E' : 'foo' })\n",
    "    \n",
    "\n",
    "df2"
   ]
  },
  {
   "cell_type": "code",
   "execution_count": 17,
   "metadata": {
    "collapsed": false,
    "slideshow": {
     "slide_type": "subslide"
    }
   },
   "outputs": [
    {
     "ename": "NameError",
     "evalue": "name 'df2' is not defined",
     "output_type": "error",
     "traceback": [
      "\u001b[0;31m---------------------------------------------------------------------------\u001b[0m",
      "\u001b[0;31mNameError\u001b[0m                                 Traceback (most recent call last)",
      "\u001b[0;32m<ipython-input-17-a037b6233ac2>\u001b[0m in \u001b[0;36m<module>\u001b[0;34m()\u001b[0m\n\u001b[1;32m      1\u001b[0m \u001b[0;31m# With specific dtypes\u001b[0m\u001b[0;34m\u001b[0m\u001b[0;34m\u001b[0m\u001b[0m\n\u001b[0;32m----> 2\u001b[0;31m \u001b[0mdf2\u001b[0m\u001b[0;34m.\u001b[0m\u001b[0mdtypes\u001b[0m\u001b[0;34m\u001b[0m\u001b[0m\n\u001b[0m",
      "\u001b[0;31mNameError\u001b[0m: name 'df2' is not defined"
     ]
    }
   ],
   "source": [
    "# With specific dtypes\n",
    "df2.dtypes"
   ]
  },
  {
   "cell_type": "markdown",
   "metadata": {
    "slideshow": {
     "slide_type": "slide"
    }
   },
   "source": [
    "#### Viewing Data"
   ]
  },
  {
   "cell_type": "code",
   "execution_count": 18,
   "metadata": {
    "collapsed": false,
    "slideshow": {
     "slide_type": "subslide"
    }
   },
   "outputs": [
    {
     "data": {
      "text/html": [
       "<div>\n",
       "<table border=\"1\" class=\"dataframe\">\n",
       "  <thead>\n",
       "    <tr style=\"text-align: right;\">\n",
       "      <th></th>\n",
       "      <th>A</th>\n",
       "      <th>B</th>\n",
       "      <th>C</th>\n",
       "      <th>D</th>\n",
       "    </tr>\n",
       "  </thead>\n",
       "  <tbody>\n",
       "    <tr>\n",
       "      <th>2014-01-01</th>\n",
       "      <td>-1.681371</td>\n",
       "      <td>-0.257142</td>\n",
       "      <td>0.840739</td>\n",
       "      <td>-0.498591</td>\n",
       "    </tr>\n",
       "    <tr>\n",
       "      <th>2014-01-02</th>\n",
       "      <td>-0.961338</td>\n",
       "      <td>0.394642</td>\n",
       "      <td>1.069771</td>\n",
       "      <td>-0.587708</td>\n",
       "    </tr>\n",
       "    <tr>\n",
       "      <th>2014-01-03</th>\n",
       "      <td>-0.148894</td>\n",
       "      <td>-0.012324</td>\n",
       "      <td>-1.376463</td>\n",
       "      <td>-0.580830</td>\n",
       "    </tr>\n",
       "    <tr>\n",
       "      <th>2014-01-04</th>\n",
       "      <td>-0.373968</td>\n",
       "      <td>1.213398</td>\n",
       "      <td>0.342724</td>\n",
       "      <td>-0.060573</td>\n",
       "    </tr>\n",
       "    <tr>\n",
       "      <th>2014-01-05</th>\n",
       "      <td>-1.313012</td>\n",
       "      <td>1.397064</td>\n",
       "      <td>1.053475</td>\n",
       "      <td>-1.856762</td>\n",
       "    </tr>\n",
       "  </tbody>\n",
       "</table>\n",
       "</div>"
      ],
      "text/plain": [
       "                   A         B         C         D\n",
       "2014-01-01 -1.681371 -0.257142  0.840739 -0.498591\n",
       "2014-01-02 -0.961338  0.394642  1.069771 -0.587708\n",
       "2014-01-03 -0.148894 -0.012324 -1.376463 -0.580830\n",
       "2014-01-04 -0.373968  1.213398  0.342724 -0.060573\n",
       "2014-01-05 -1.313012  1.397064  1.053475 -1.856762"
      ]
     },
     "execution_count": 18,
     "metadata": {},
     "output_type": "execute_result"
    }
   ],
   "source": [
    "df.head()"
   ]
  },
  {
   "cell_type": "code",
   "execution_count": 19,
   "metadata": {
    "collapsed": false,
    "slideshow": {
     "slide_type": "fragment"
    }
   },
   "outputs": [
    {
     "data": {
      "text/html": [
       "<div>\n",
       "<table border=\"1\" class=\"dataframe\">\n",
       "  <thead>\n",
       "    <tr style=\"text-align: right;\">\n",
       "      <th></th>\n",
       "      <th>A</th>\n",
       "      <th>B</th>\n",
       "      <th>C</th>\n",
       "      <th>D</th>\n",
       "    </tr>\n",
       "  </thead>\n",
       "  <tbody>\n",
       "    <tr>\n",
       "      <th>2014-01-02</th>\n",
       "      <td>-0.961338</td>\n",
       "      <td>0.394642</td>\n",
       "      <td>1.069771</td>\n",
       "      <td>-0.587708</td>\n",
       "    </tr>\n",
       "    <tr>\n",
       "      <th>2014-01-03</th>\n",
       "      <td>-0.148894</td>\n",
       "      <td>-0.012324</td>\n",
       "      <td>-1.376463</td>\n",
       "      <td>-0.580830</td>\n",
       "    </tr>\n",
       "    <tr>\n",
       "      <th>2014-01-04</th>\n",
       "      <td>-0.373968</td>\n",
       "      <td>1.213398</td>\n",
       "      <td>0.342724</td>\n",
       "      <td>-0.060573</td>\n",
       "    </tr>\n",
       "    <tr>\n",
       "      <th>2014-01-05</th>\n",
       "      <td>-1.313012</td>\n",
       "      <td>1.397064</td>\n",
       "      <td>1.053475</td>\n",
       "      <td>-1.856762</td>\n",
       "    </tr>\n",
       "    <tr>\n",
       "      <th>2014-01-06</th>\n",
       "      <td>-0.154810</td>\n",
       "      <td>-0.461192</td>\n",
       "      <td>1.137429</td>\n",
       "      <td>-0.655723</td>\n",
       "    </tr>\n",
       "  </tbody>\n",
       "</table>\n",
       "</div>"
      ],
      "text/plain": [
       "                   A         B         C         D\n",
       "2014-01-02 -0.961338  0.394642  1.069771 -0.587708\n",
       "2014-01-03 -0.148894 -0.012324 -1.376463 -0.580830\n",
       "2014-01-04 -0.373968  1.213398  0.342724 -0.060573\n",
       "2014-01-05 -1.313012  1.397064  1.053475 -1.856762\n",
       "2014-01-06 -0.154810 -0.461192  1.137429 -0.655723"
      ]
     },
     "execution_count": 19,
     "metadata": {},
     "output_type": "execute_result"
    }
   ],
   "source": [
    "df.tail()"
   ]
  },
  {
   "cell_type": "code",
   "execution_count": 20,
   "metadata": {
    "collapsed": false,
    "slideshow": {
     "slide_type": "subslide"
    }
   },
   "outputs": [
    {
     "data": {
      "text/plain": [
       "DatetimeIndex(['2014-01-01', '2014-01-02', '2014-01-03', '2014-01-04',\n",
       "               '2014-01-05', '2014-01-06'],\n",
       "              dtype='datetime64[ns]', freq='D')"
      ]
     },
     "execution_count": 20,
     "metadata": {},
     "output_type": "execute_result"
    }
   ],
   "source": [
    "df.index"
   ]
  },
  {
   "cell_type": "code",
   "execution_count": 21,
   "metadata": {
    "collapsed": false,
    "slideshow": {
     "slide_type": "subslide"
    }
   },
   "outputs": [
    {
     "data": {
      "text/html": [
       "<div>\n",
       "<table border=\"1\" class=\"dataframe\">\n",
       "  <thead>\n",
       "    <tr style=\"text-align: right;\">\n",
       "      <th></th>\n",
       "      <th>A</th>\n",
       "      <th>B</th>\n",
       "      <th>C</th>\n",
       "      <th>D</th>\n",
       "    </tr>\n",
       "  </thead>\n",
       "  <tbody>\n",
       "    <tr>\n",
       "      <th>count</th>\n",
       "      <td>6.000000</td>\n",
       "      <td>6.000000</td>\n",
       "      <td>6.000000</td>\n",
       "      <td>6.000000</td>\n",
       "    </tr>\n",
       "    <tr>\n",
       "      <th>mean</th>\n",
       "      <td>-0.772232</td>\n",
       "      <td>0.379074</td>\n",
       "      <td>0.511279</td>\n",
       "      <td>-0.706698</td>\n",
       "    </tr>\n",
       "    <tr>\n",
       "      <th>std</th>\n",
       "      <td>0.645463</td>\n",
       "      <td>0.774164</td>\n",
       "      <td>0.969379</td>\n",
       "      <td>0.602666</td>\n",
       "    </tr>\n",
       "    <tr>\n",
       "      <th>min</th>\n",
       "      <td>-1.681371</td>\n",
       "      <td>-0.461192</td>\n",
       "      <td>-1.376463</td>\n",
       "      <td>-1.856762</td>\n",
       "    </tr>\n",
       "    <tr>\n",
       "      <th>25%</th>\n",
       "      <td>-1.225093</td>\n",
       "      <td>-0.195937</td>\n",
       "      <td>0.467228</td>\n",
       "      <td>-0.638719</td>\n",
       "    </tr>\n",
       "    <tr>\n",
       "      <th>50%</th>\n",
       "      <td>-0.667653</td>\n",
       "      <td>0.191159</td>\n",
       "      <td>0.947107</td>\n",
       "      <td>-0.584269</td>\n",
       "    </tr>\n",
       "    <tr>\n",
       "      <th>75%</th>\n",
       "      <td>-0.209600</td>\n",
       "      <td>1.008709</td>\n",
       "      <td>1.065697</td>\n",
       "      <td>-0.519151</td>\n",
       "    </tr>\n",
       "    <tr>\n",
       "      <th>max</th>\n",
       "      <td>-0.148894</td>\n",
       "      <td>1.397064</td>\n",
       "      <td>1.137429</td>\n",
       "      <td>-0.060573</td>\n",
       "    </tr>\n",
       "  </tbody>\n",
       "</table>\n",
       "</div>"
      ],
      "text/plain": [
       "              A         B         C         D\n",
       "count  6.000000  6.000000  6.000000  6.000000\n",
       "mean  -0.772232  0.379074  0.511279 -0.706698\n",
       "std    0.645463  0.774164  0.969379  0.602666\n",
       "min   -1.681371 -0.461192 -1.376463 -1.856762\n",
       "25%   -1.225093 -0.195937  0.467228 -0.638719\n",
       "50%   -0.667653  0.191159  0.947107 -0.584269\n",
       "75%   -0.209600  1.008709  1.065697 -0.519151\n",
       "max   -0.148894  1.397064  1.137429 -0.060573"
      ]
     },
     "execution_count": 21,
     "metadata": {},
     "output_type": "execute_result"
    }
   ],
   "source": [
    "df.describe()"
   ]
  },
  {
   "cell_type": "code",
   "execution_count": 22,
   "metadata": {
    "collapsed": false,
    "slideshow": {
     "slide_type": "subslide"
    }
   },
   "outputs": [
    {
     "data": {
      "text/html": [
       "<div>\n",
       "<table border=\"1\" class=\"dataframe\">\n",
       "  <thead>\n",
       "    <tr style=\"text-align: right;\">\n",
       "      <th></th>\n",
       "      <th>A</th>\n",
       "      <th>B</th>\n",
       "      <th>C</th>\n",
       "      <th>D</th>\n",
       "    </tr>\n",
       "  </thead>\n",
       "  <tbody>\n",
       "    <tr>\n",
       "      <th>2014-01-01</th>\n",
       "      <td>-1.681371</td>\n",
       "      <td>-0.257142</td>\n",
       "      <td>0.840739</td>\n",
       "      <td>-0.498591</td>\n",
       "    </tr>\n",
       "    <tr>\n",
       "      <th>2014-01-02</th>\n",
       "      <td>-0.961338</td>\n",
       "      <td>0.394642</td>\n",
       "      <td>1.069771</td>\n",
       "      <td>-0.587708</td>\n",
       "    </tr>\n",
       "    <tr>\n",
       "      <th>2014-01-03</th>\n",
       "      <td>-0.148894</td>\n",
       "      <td>-0.012324</td>\n",
       "      <td>-1.376463</td>\n",
       "      <td>-0.580830</td>\n",
       "    </tr>\n",
       "    <tr>\n",
       "      <th>2014-01-04</th>\n",
       "      <td>-0.373968</td>\n",
       "      <td>1.213398</td>\n",
       "      <td>0.342724</td>\n",
       "      <td>-0.060573</td>\n",
       "    </tr>\n",
       "    <tr>\n",
       "      <th>2014-01-05</th>\n",
       "      <td>-1.313012</td>\n",
       "      <td>1.397064</td>\n",
       "      <td>1.053475</td>\n",
       "      <td>-1.856762</td>\n",
       "    </tr>\n",
       "    <tr>\n",
       "      <th>2014-01-06</th>\n",
       "      <td>-0.154810</td>\n",
       "      <td>-0.461192</td>\n",
       "      <td>1.137429</td>\n",
       "      <td>-0.655723</td>\n",
       "    </tr>\n",
       "  </tbody>\n",
       "</table>\n",
       "</div>"
      ],
      "text/plain": [
       "                   A         B         C         D\n",
       "2014-01-01 -1.681371 -0.257142  0.840739 -0.498591\n",
       "2014-01-02 -0.961338  0.394642  1.069771 -0.587708\n",
       "2014-01-03 -0.148894 -0.012324 -1.376463 -0.580830\n",
       "2014-01-04 -0.373968  1.213398  0.342724 -0.060573\n",
       "2014-01-05 -1.313012  1.397064  1.053475 -1.856762\n",
       "2014-01-06 -0.154810 -0.461192  1.137429 -0.655723"
      ]
     },
     "execution_count": 22,
     "metadata": {},
     "output_type": "execute_result"
    }
   ],
   "source": [
    "df.sort_values(by='B')\n",
    "df"
   ]
  },
  {
   "cell_type": "markdown",
   "metadata": {
    "slideshow": {
     "slide_type": "slide"
    }
   },
   "source": [
    "### Selection"
   ]
  },
  {
   "cell_type": "code",
   "execution_count": 23,
   "metadata": {
    "collapsed": false,
    "slideshow": {
     "slide_type": "subslide"
    }
   },
   "outputs": [
    {
     "data": {
      "text/html": [
       "<div>\n",
       "<table border=\"1\" class=\"dataframe\">\n",
       "  <thead>\n",
       "    <tr style=\"text-align: right;\">\n",
       "      <th></th>\n",
       "      <th>A</th>\n",
       "      <th>B</th>\n",
       "    </tr>\n",
       "  </thead>\n",
       "  <tbody>\n",
       "    <tr>\n",
       "      <th>2014-01-01</th>\n",
       "      <td>-1.681371</td>\n",
       "      <td>-0.257142</td>\n",
       "    </tr>\n",
       "    <tr>\n",
       "      <th>2014-01-02</th>\n",
       "      <td>-0.961338</td>\n",
       "      <td>0.394642</td>\n",
       "    </tr>\n",
       "    <tr>\n",
       "      <th>2014-01-03</th>\n",
       "      <td>-0.148894</td>\n",
       "      <td>-0.012324</td>\n",
       "    </tr>\n",
       "    <tr>\n",
       "      <th>2014-01-04</th>\n",
       "      <td>-0.373968</td>\n",
       "      <td>1.213398</td>\n",
       "    </tr>\n",
       "    <tr>\n",
       "      <th>2014-01-05</th>\n",
       "      <td>-1.313012</td>\n",
       "      <td>1.397064</td>\n",
       "    </tr>\n",
       "    <tr>\n",
       "      <th>2014-01-06</th>\n",
       "      <td>-0.154810</td>\n",
       "      <td>-0.461192</td>\n",
       "    </tr>\n",
       "  </tbody>\n",
       "</table>\n",
       "</div>"
      ],
      "text/plain": [
       "                   A         B\n",
       "2014-01-01 -1.681371 -0.257142\n",
       "2014-01-02 -0.961338  0.394642\n",
       "2014-01-03 -0.148894 -0.012324\n",
       "2014-01-04 -0.373968  1.213398\n",
       "2014-01-05 -1.313012  1.397064\n",
       "2014-01-06 -0.154810 -0.461192"
      ]
     },
     "execution_count": 23,
     "metadata": {},
     "output_type": "execute_result"
    }
   ],
   "source": [
    "df[['A','B']]"
   ]
  },
  {
   "cell_type": "code",
   "execution_count": 24,
   "metadata": {
    "collapsed": false,
    "slideshow": {
     "slide_type": "subslide"
    }
   },
   "outputs": [
    {
     "data": {
      "text/html": [
       "<div>\n",
       "<table border=\"1\" class=\"dataframe\">\n",
       "  <thead>\n",
       "    <tr style=\"text-align: right;\">\n",
       "      <th></th>\n",
       "      <th>A</th>\n",
       "      <th>B</th>\n",
       "      <th>C</th>\n",
       "      <th>D</th>\n",
       "    </tr>\n",
       "  </thead>\n",
       "  <tbody>\n",
       "    <tr>\n",
       "      <th>2014-01-01</th>\n",
       "      <td>-1.681371</td>\n",
       "      <td>-0.257142</td>\n",
       "      <td>0.840739</td>\n",
       "      <td>-0.498591</td>\n",
       "    </tr>\n",
       "    <tr>\n",
       "      <th>2014-01-02</th>\n",
       "      <td>-0.961338</td>\n",
       "      <td>0.394642</td>\n",
       "      <td>1.069771</td>\n",
       "      <td>-0.587708</td>\n",
       "    </tr>\n",
       "    <tr>\n",
       "      <th>2014-01-03</th>\n",
       "      <td>-0.148894</td>\n",
       "      <td>-0.012324</td>\n",
       "      <td>-1.376463</td>\n",
       "      <td>-0.580830</td>\n",
       "    </tr>\n",
       "  </tbody>\n",
       "</table>\n",
       "</div>"
      ],
      "text/plain": [
       "                   A         B         C         D\n",
       "2014-01-01 -1.681371 -0.257142  0.840739 -0.498591\n",
       "2014-01-02 -0.961338  0.394642  1.069771 -0.587708\n",
       "2014-01-03 -0.148894 -0.012324 -1.376463 -0.580830"
      ]
     },
     "execution_count": 24,
     "metadata": {},
     "output_type": "execute_result"
    }
   ],
   "source": [
    "df[0:3]"
   ]
  },
  {
   "cell_type": "code",
   "execution_count": 25,
   "metadata": {
    "collapsed": false,
    "slideshow": {
     "slide_type": "subslide"
    }
   },
   "outputs": [
    {
     "data": {
      "text/plain": [
       "A   -1.681371\n",
       "B   -0.257142\n",
       "C    0.840739\n",
       "D   -0.498591\n",
       "Name: 2014-01-01 00:00:00, dtype: float64"
      ]
     },
     "execution_count": 25,
     "metadata": {},
     "output_type": "execute_result"
    }
   ],
   "source": [
    "# By label\n",
    "df.loc[dates[0]]"
   ]
  },
  {
   "cell_type": "code",
   "execution_count": 26,
   "metadata": {
    "collapsed": false,
    "slideshow": {
     "slide_type": "fragment"
    }
   },
   "outputs": [
    {
     "data": {
      "text/html": [
       "<div>\n",
       "<table border=\"1\" class=\"dataframe\">\n",
       "  <thead>\n",
       "    <tr style=\"text-align: right;\">\n",
       "      <th></th>\n",
       "      <th>A</th>\n",
       "      <th>B</th>\n",
       "    </tr>\n",
       "  </thead>\n",
       "  <tbody>\n",
       "    <tr>\n",
       "      <th>2014-01-01</th>\n",
       "      <td>-1.681371</td>\n",
       "      <td>-0.257142</td>\n",
       "    </tr>\n",
       "    <tr>\n",
       "      <th>2014-01-02</th>\n",
       "      <td>-0.961338</td>\n",
       "      <td>0.394642</td>\n",
       "    </tr>\n",
       "    <tr>\n",
       "      <th>2014-01-03</th>\n",
       "      <td>-0.148894</td>\n",
       "      <td>-0.012324</td>\n",
       "    </tr>\n",
       "    <tr>\n",
       "      <th>2014-01-04</th>\n",
       "      <td>-0.373968</td>\n",
       "      <td>1.213398</td>\n",
       "    </tr>\n",
       "    <tr>\n",
       "      <th>2014-01-05</th>\n",
       "      <td>-1.313012</td>\n",
       "      <td>1.397064</td>\n",
       "    </tr>\n",
       "    <tr>\n",
       "      <th>2014-01-06</th>\n",
       "      <td>-0.154810</td>\n",
       "      <td>-0.461192</td>\n",
       "    </tr>\n",
       "  </tbody>\n",
       "</table>\n",
       "</div>"
      ],
      "text/plain": [
       "                   A         B\n",
       "2014-01-01 -1.681371 -0.257142\n",
       "2014-01-02 -0.961338  0.394642\n",
       "2014-01-03 -0.148894 -0.012324\n",
       "2014-01-04 -0.373968  1.213398\n",
       "2014-01-05 -1.313012  1.397064\n",
       "2014-01-06 -0.154810 -0.461192"
      ]
     },
     "execution_count": 26,
     "metadata": {},
     "output_type": "execute_result"
    }
   ],
   "source": [
    "# multi-axis by label\n",
    "df.loc[:,['A','B']]"
   ]
  },
  {
   "cell_type": "code",
   "execution_count": 27,
   "metadata": {
    "collapsed": false,
    "slideshow": {
     "slide_type": "fragment"
    }
   },
   "outputs": [
    {
     "data": {
      "text/html": [
       "<div>\n",
       "<table border=\"1\" class=\"dataframe\">\n",
       "  <thead>\n",
       "    <tr style=\"text-align: right;\">\n",
       "      <th></th>\n",
       "      <th>B</th>\n",
       "    </tr>\n",
       "  </thead>\n",
       "  <tbody>\n",
       "    <tr>\n",
       "      <th>2014-01-02</th>\n",
       "      <td>0.394642</td>\n",
       "    </tr>\n",
       "    <tr>\n",
       "      <th>2014-01-03</th>\n",
       "      <td>-0.012324</td>\n",
       "    </tr>\n",
       "    <tr>\n",
       "      <th>2014-01-04</th>\n",
       "      <td>1.213398</td>\n",
       "    </tr>\n",
       "  </tbody>\n",
       "</table>\n",
       "</div>"
      ],
      "text/plain": [
       "                   B\n",
       "2014-01-02  0.394642\n",
       "2014-01-03 -0.012324\n",
       "2014-01-04  1.213398"
      ]
     },
     "execution_count": 27,
     "metadata": {},
     "output_type": "execute_result"
    }
   ],
   "source": [
    "# Date Range\n",
    "df.loc['20140102':'20140104',['B']]"
   ]
  },
  {
   "cell_type": "code",
   "execution_count": 28,
   "metadata": {
    "collapsed": false,
    "slideshow": {
     "slide_type": "fragment"
    }
   },
   "outputs": [
    {
     "data": {
      "text/plain": [
       "0.39464184409897296"
      ]
     },
     "execution_count": 28,
     "metadata": {},
     "output_type": "execute_result"
    }
   ],
   "source": [
    "# Fast access to scalar\n",
    "df.at[dates[1],'B']"
   ]
  },
  {
   "cell_type": "code",
   "execution_count": 30,
   "metadata": {
    "collapsed": false,
    "slideshow": {
     "slide_type": "fragment"
    }
   },
   "outputs": [
    {
     "data": {
      "text/plain": [
       "2014-01-04   -0.060573\n",
       "2014-01-05   -1.856762\n",
       "2014-01-06   -0.655723\n",
       "Freq: D, Name: D, dtype: float64"
      ]
     },
     "execution_count": 30,
     "metadata": {},
     "output_type": "execute_result"
    }
   ],
   "source": [
    "# iloc provides integer locations similar to np style\n",
    "df.iloc[3:]\n",
    "df.iloc[3:,-1]"
   ]
  },
  {
   "cell_type": "markdown",
   "metadata": {
    "slideshow": {
     "slide_type": "subslide"
    }
   },
   "source": [
    "### Boolean Indexing"
   ]
  },
  {
   "cell_type": "code",
   "execution_count": 31,
   "metadata": {
    "collapsed": false,
    "slideshow": {
     "slide_type": "fragment"
    }
   },
   "outputs": [
    {
     "data": {
      "text/html": [
       "<div>\n",
       "<table border=\"1\" class=\"dataframe\">\n",
       "  <thead>\n",
       "    <tr style=\"text-align: right;\">\n",
       "      <th></th>\n",
       "      <th>A</th>\n",
       "      <th>B</th>\n",
       "      <th>C</th>\n",
       "      <th>D</th>\n",
       "    </tr>\n",
       "  </thead>\n",
       "  <tbody>\n",
       "    <tr>\n",
       "      <th>2014-01-01</th>\n",
       "      <td>-1.681371</td>\n",
       "      <td>-0.257142</td>\n",
       "      <td>0.840739</td>\n",
       "      <td>-0.498591</td>\n",
       "    </tr>\n",
       "    <tr>\n",
       "      <th>2014-01-02</th>\n",
       "      <td>-0.961338</td>\n",
       "      <td>0.394642</td>\n",
       "      <td>1.069771</td>\n",
       "      <td>-0.587708</td>\n",
       "    </tr>\n",
       "    <tr>\n",
       "      <th>2014-01-03</th>\n",
       "      <td>-0.148894</td>\n",
       "      <td>-0.012324</td>\n",
       "      <td>-1.376463</td>\n",
       "      <td>-0.580830</td>\n",
       "    </tr>\n",
       "    <tr>\n",
       "      <th>2014-01-04</th>\n",
       "      <td>-0.373968</td>\n",
       "      <td>1.213398</td>\n",
       "      <td>0.342724</td>\n",
       "      <td>-0.060573</td>\n",
       "    </tr>\n",
       "    <tr>\n",
       "      <th>2014-01-05</th>\n",
       "      <td>-1.313012</td>\n",
       "      <td>1.397064</td>\n",
       "      <td>1.053475</td>\n",
       "      <td>-1.856762</td>\n",
       "    </tr>\n",
       "    <tr>\n",
       "      <th>2014-01-06</th>\n",
       "      <td>-0.154810</td>\n",
       "      <td>-0.461192</td>\n",
       "      <td>1.137429</td>\n",
       "      <td>-0.655723</td>\n",
       "    </tr>\n",
       "  </tbody>\n",
       "</table>\n",
       "</div>"
      ],
      "text/plain": [
       "                   A         B         C         D\n",
       "2014-01-01 -1.681371 -0.257142  0.840739 -0.498591\n",
       "2014-01-02 -0.961338  0.394642  1.069771 -0.587708\n",
       "2014-01-03 -0.148894 -0.012324 -1.376463 -0.580830\n",
       "2014-01-04 -0.373968  1.213398  0.342724 -0.060573\n",
       "2014-01-05 -1.313012  1.397064  1.053475 -1.856762\n",
       "2014-01-06 -0.154810 -0.461192  1.137429 -0.655723"
      ]
     },
     "execution_count": 31,
     "metadata": {},
     "output_type": "execute_result"
    }
   ],
   "source": [
    "df[df.A < 0] # Basically a 'where' operation"
   ]
  },
  {
   "cell_type": "markdown",
   "metadata": {
    "slideshow": {
     "slide_type": "subslide"
    }
   },
   "source": [
    "### Setting"
   ]
  },
  {
   "cell_type": "code",
   "execution_count": 34,
   "metadata": {
    "collapsed": false,
    "slideshow": {
     "slide_type": "fragment"
    }
   },
   "outputs": [],
   "source": [
    "df_posA = df.copy() # Without \"copy\" it would act on the dataset\n",
    "\n",
    "df_posA[df_posA.A < 0] = -1*df_posA"
   ]
  },
  {
   "cell_type": "code",
   "execution_count": 35,
   "metadata": {
    "collapsed": false,
    "slideshow": {
     "slide_type": "fragment"
    }
   },
   "outputs": [
    {
     "data": {
      "text/html": [
       "<div>\n",
       "<table border=\"1\" class=\"dataframe\">\n",
       "  <thead>\n",
       "    <tr style=\"text-align: right;\">\n",
       "      <th></th>\n",
       "      <th>A</th>\n",
       "      <th>B</th>\n",
       "      <th>C</th>\n",
       "      <th>D</th>\n",
       "    </tr>\n",
       "  </thead>\n",
       "  <tbody>\n",
       "    <tr>\n",
       "      <th>2014-01-01</th>\n",
       "      <td>1.681371</td>\n",
       "      <td>0.257142</td>\n",
       "      <td>-0.840739</td>\n",
       "      <td>0.498591</td>\n",
       "    </tr>\n",
       "    <tr>\n",
       "      <th>2014-01-02</th>\n",
       "      <td>0.961338</td>\n",
       "      <td>-0.394642</td>\n",
       "      <td>-1.069771</td>\n",
       "      <td>0.587708</td>\n",
       "    </tr>\n",
       "    <tr>\n",
       "      <th>2014-01-03</th>\n",
       "      <td>0.148894</td>\n",
       "      <td>0.012324</td>\n",
       "      <td>1.376463</td>\n",
       "      <td>0.580830</td>\n",
       "    </tr>\n",
       "    <tr>\n",
       "      <th>2014-01-04</th>\n",
       "      <td>0.373968</td>\n",
       "      <td>-1.213398</td>\n",
       "      <td>-0.342724</td>\n",
       "      <td>0.060573</td>\n",
       "    </tr>\n",
       "    <tr>\n",
       "      <th>2014-01-05</th>\n",
       "      <td>1.313012</td>\n",
       "      <td>-1.397064</td>\n",
       "      <td>-1.053475</td>\n",
       "      <td>1.856762</td>\n",
       "    </tr>\n",
       "    <tr>\n",
       "      <th>2014-01-06</th>\n",
       "      <td>0.154810</td>\n",
       "      <td>0.461192</td>\n",
       "      <td>-1.137429</td>\n",
       "      <td>0.655723</td>\n",
       "    </tr>\n",
       "  </tbody>\n",
       "</table>\n",
       "</div>"
      ],
      "text/plain": [
       "                   A         B         C         D\n",
       "2014-01-01  1.681371  0.257142 -0.840739  0.498591\n",
       "2014-01-02  0.961338 -0.394642 -1.069771  0.587708\n",
       "2014-01-03  0.148894  0.012324  1.376463  0.580830\n",
       "2014-01-04  0.373968 -1.213398 -0.342724  0.060573\n",
       "2014-01-05  1.313012 -1.397064 -1.053475  1.856762\n",
       "2014-01-06  0.154810  0.461192 -1.137429  0.655723"
      ]
     },
     "execution_count": 35,
     "metadata": {},
     "output_type": "execute_result"
    }
   ],
   "source": [
    "df_posA"
   ]
  },
  {
   "cell_type": "code",
   "execution_count": 36,
   "metadata": {
    "collapsed": false,
    "slideshow": {
     "slide_type": "subslide"
    }
   },
   "outputs": [],
   "source": [
    "#Setting new column aligns data by index\n",
    "s1 = pd.Series([1,2,3,4,5,6],index=pd.date_range('20140102',periods=6))"
   ]
  },
  {
   "cell_type": "code",
   "execution_count": 37,
   "metadata": {
    "collapsed": false,
    "slideshow": {
     "slide_type": "fragment"
    }
   },
   "outputs": [
    {
     "data": {
      "text/plain": [
       "2014-01-02    1\n",
       "2014-01-03    2\n",
       "2014-01-04    3\n",
       "2014-01-05    4\n",
       "2014-01-06    5\n",
       "2014-01-07    6\n",
       "Freq: D, dtype: int64"
      ]
     },
     "execution_count": 37,
     "metadata": {},
     "output_type": "execute_result"
    }
   ],
   "source": [
    "s1"
   ]
  },
  {
   "cell_type": "code",
   "execution_count": 38,
   "metadata": {
    "collapsed": false,
    "slideshow": {
     "slide_type": "fragment"
    }
   },
   "outputs": [],
   "source": [
    "df['F'] = s1"
   ]
  },
  {
   "cell_type": "code",
   "execution_count": 39,
   "metadata": {
    "collapsed": false,
    "slideshow": {
     "slide_type": "fragment"
    }
   },
   "outputs": [
    {
     "data": {
      "text/html": [
       "<div>\n",
       "<table border=\"1\" class=\"dataframe\">\n",
       "  <thead>\n",
       "    <tr style=\"text-align: right;\">\n",
       "      <th></th>\n",
       "      <th>A</th>\n",
       "      <th>B</th>\n",
       "      <th>C</th>\n",
       "      <th>D</th>\n",
       "      <th>F</th>\n",
       "    </tr>\n",
       "  </thead>\n",
       "  <tbody>\n",
       "    <tr>\n",
       "      <th>2014-01-01</th>\n",
       "      <td>-1.681371</td>\n",
       "      <td>-0.257142</td>\n",
       "      <td>0.840739</td>\n",
       "      <td>-0.498591</td>\n",
       "      <td>NaN</td>\n",
       "    </tr>\n",
       "    <tr>\n",
       "      <th>2014-01-02</th>\n",
       "      <td>-0.961338</td>\n",
       "      <td>0.394642</td>\n",
       "      <td>1.069771</td>\n",
       "      <td>-0.587708</td>\n",
       "      <td>1</td>\n",
       "    </tr>\n",
       "    <tr>\n",
       "      <th>2014-01-03</th>\n",
       "      <td>-0.148894</td>\n",
       "      <td>-0.012324</td>\n",
       "      <td>-1.376463</td>\n",
       "      <td>-0.580830</td>\n",
       "      <td>2</td>\n",
       "    </tr>\n",
       "    <tr>\n",
       "      <th>2014-01-04</th>\n",
       "      <td>-0.373968</td>\n",
       "      <td>1.213398</td>\n",
       "      <td>0.342724</td>\n",
       "      <td>-0.060573</td>\n",
       "      <td>3</td>\n",
       "    </tr>\n",
       "    <tr>\n",
       "      <th>2014-01-05</th>\n",
       "      <td>-1.313012</td>\n",
       "      <td>1.397064</td>\n",
       "      <td>1.053475</td>\n",
       "      <td>-1.856762</td>\n",
       "      <td>4</td>\n",
       "    </tr>\n",
       "    <tr>\n",
       "      <th>2014-01-06</th>\n",
       "      <td>-0.154810</td>\n",
       "      <td>-0.461192</td>\n",
       "      <td>1.137429</td>\n",
       "      <td>-0.655723</td>\n",
       "      <td>5</td>\n",
       "    </tr>\n",
       "  </tbody>\n",
       "</table>\n",
       "</div>"
      ],
      "text/plain": [
       "                   A         B         C         D   F\n",
       "2014-01-01 -1.681371 -0.257142  0.840739 -0.498591 NaN\n",
       "2014-01-02 -0.961338  0.394642  1.069771 -0.587708   1\n",
       "2014-01-03 -0.148894 -0.012324 -1.376463 -0.580830   2\n",
       "2014-01-04 -0.373968  1.213398  0.342724 -0.060573   3\n",
       "2014-01-05 -1.313012  1.397064  1.053475 -1.856762   4\n",
       "2014-01-06 -0.154810 -0.461192  1.137429 -0.655723   5"
      ]
     },
     "execution_count": 39,
     "metadata": {},
     "output_type": "execute_result"
    }
   ],
   "source": [
    "df"
   ]
  },
  {
   "cell_type": "markdown",
   "metadata": {
    "slideshow": {
     "slide_type": "slide"
    }
   },
   "source": [
    "### Missing Data"
   ]
  },
  {
   "cell_type": "code",
   "execution_count": 40,
   "metadata": {
    "collapsed": false,
    "slideshow": {
     "slide_type": "subslide"
    }
   },
   "outputs": [],
   "source": [
    "# Add a column with missing data\n",
    "df1 = df.reindex(index=dates[0:4],columns=list(df.columns) + ['E'])"
   ]
  },
  {
   "cell_type": "code",
   "execution_count": 41,
   "metadata": {
    "collapsed": false,
    "slideshow": {
     "slide_type": "subslide"
    }
   },
   "outputs": [],
   "source": [
    "df1.loc[dates[0]:dates[1],'E'] = 1"
   ]
  },
  {
   "cell_type": "code",
   "execution_count": 42,
   "metadata": {
    "collapsed": false,
    "slideshow": {
     "slide_type": "fragment"
    }
   },
   "outputs": [
    {
     "data": {
      "text/html": [
       "<div>\n",
       "<table border=\"1\" class=\"dataframe\">\n",
       "  <thead>\n",
       "    <tr style=\"text-align: right;\">\n",
       "      <th></th>\n",
       "      <th>A</th>\n",
       "      <th>B</th>\n",
       "      <th>C</th>\n",
       "      <th>D</th>\n",
       "      <th>F</th>\n",
       "      <th>E</th>\n",
       "    </tr>\n",
       "  </thead>\n",
       "  <tbody>\n",
       "    <tr>\n",
       "      <th>2014-01-01</th>\n",
       "      <td>-1.681371</td>\n",
       "      <td>-0.257142</td>\n",
       "      <td>0.840739</td>\n",
       "      <td>-0.498591</td>\n",
       "      <td>NaN</td>\n",
       "      <td>1</td>\n",
       "    </tr>\n",
       "    <tr>\n",
       "      <th>2014-01-02</th>\n",
       "      <td>-0.961338</td>\n",
       "      <td>0.394642</td>\n",
       "      <td>1.069771</td>\n",
       "      <td>-0.587708</td>\n",
       "      <td>1</td>\n",
       "      <td>1</td>\n",
       "    </tr>\n",
       "    <tr>\n",
       "      <th>2014-01-03</th>\n",
       "      <td>-0.148894</td>\n",
       "      <td>-0.012324</td>\n",
       "      <td>-1.376463</td>\n",
       "      <td>-0.580830</td>\n",
       "      <td>2</td>\n",
       "      <td>NaN</td>\n",
       "    </tr>\n",
       "    <tr>\n",
       "      <th>2014-01-04</th>\n",
       "      <td>-0.373968</td>\n",
       "      <td>1.213398</td>\n",
       "      <td>0.342724</td>\n",
       "      <td>-0.060573</td>\n",
       "      <td>3</td>\n",
       "      <td>NaN</td>\n",
       "    </tr>\n",
       "  </tbody>\n",
       "</table>\n",
       "</div>"
      ],
      "text/plain": [
       "                   A         B         C         D   F   E\n",
       "2014-01-01 -1.681371 -0.257142  0.840739 -0.498591 NaN   1\n",
       "2014-01-02 -0.961338  0.394642  1.069771 -0.587708   1   1\n",
       "2014-01-03 -0.148894 -0.012324 -1.376463 -0.580830   2 NaN\n",
       "2014-01-04 -0.373968  1.213398  0.342724 -0.060573   3 NaN"
      ]
     },
     "execution_count": 42,
     "metadata": {},
     "output_type": "execute_result"
    }
   ],
   "source": [
    "df1"
   ]
  },
  {
   "cell_type": "code",
   "execution_count": 43,
   "metadata": {
    "collapsed": false,
    "slideshow": {
     "slide_type": "subslide"
    }
   },
   "outputs": [
    {
     "data": {
      "text/html": [
       "<div>\n",
       "<table border=\"1\" class=\"dataframe\">\n",
       "  <thead>\n",
       "    <tr style=\"text-align: right;\">\n",
       "      <th></th>\n",
       "      <th>A</th>\n",
       "      <th>B</th>\n",
       "      <th>C</th>\n",
       "      <th>D</th>\n",
       "      <th>F</th>\n",
       "      <th>E</th>\n",
       "    </tr>\n",
       "  </thead>\n",
       "  <tbody>\n",
       "    <tr>\n",
       "      <th>2014-01-01</th>\n",
       "      <td>False</td>\n",
       "      <td>False</td>\n",
       "      <td>False</td>\n",
       "      <td>False</td>\n",
       "      <td>True</td>\n",
       "      <td>False</td>\n",
       "    </tr>\n",
       "    <tr>\n",
       "      <th>2014-01-02</th>\n",
       "      <td>False</td>\n",
       "      <td>False</td>\n",
       "      <td>False</td>\n",
       "      <td>False</td>\n",
       "      <td>False</td>\n",
       "      <td>False</td>\n",
       "    </tr>\n",
       "    <tr>\n",
       "      <th>2014-01-03</th>\n",
       "      <td>False</td>\n",
       "      <td>False</td>\n",
       "      <td>False</td>\n",
       "      <td>False</td>\n",
       "      <td>False</td>\n",
       "      <td>True</td>\n",
       "    </tr>\n",
       "    <tr>\n",
       "      <th>2014-01-04</th>\n",
       "      <td>False</td>\n",
       "      <td>False</td>\n",
       "      <td>False</td>\n",
       "      <td>False</td>\n",
       "      <td>False</td>\n",
       "      <td>True</td>\n",
       "    </tr>\n",
       "  </tbody>\n",
       "</table>\n",
       "</div>"
      ],
      "text/plain": [
       "                A      B      C      D      F      E\n",
       "2014-01-01  False  False  False  False   True  False\n",
       "2014-01-02  False  False  False  False  False  False\n",
       "2014-01-03  False  False  False  False  False   True\n",
       "2014-01-04  False  False  False  False  False   True"
      ]
     },
     "execution_count": 43,
     "metadata": {},
     "output_type": "execute_result"
    }
   ],
   "source": [
    "# find where values are null\n",
    "pd.isnull(df1)"
   ]
  },
  {
   "cell_type": "markdown",
   "metadata": {
    "slideshow": {
     "slide_type": "slide"
    }
   },
   "source": [
    "### Operations"
   ]
  },
  {
   "cell_type": "code",
   "execution_count": 44,
   "metadata": {
    "collapsed": false,
    "slideshow": {
     "slide_type": "subslide"
    }
   },
   "outputs": [
    {
     "data": {
      "text/html": [
       "<div>\n",
       "<table border=\"1\" class=\"dataframe\">\n",
       "  <thead>\n",
       "    <tr style=\"text-align: right;\">\n",
       "      <th></th>\n",
       "      <th>A</th>\n",
       "      <th>B</th>\n",
       "      <th>C</th>\n",
       "      <th>D</th>\n",
       "      <th>F</th>\n",
       "    </tr>\n",
       "  </thead>\n",
       "  <tbody>\n",
       "    <tr>\n",
       "      <th>count</th>\n",
       "      <td>6.000000</td>\n",
       "      <td>6.000000</td>\n",
       "      <td>6.000000</td>\n",
       "      <td>6.000000</td>\n",
       "      <td>5.000000</td>\n",
       "    </tr>\n",
       "    <tr>\n",
       "      <th>mean</th>\n",
       "      <td>-0.772232</td>\n",
       "      <td>0.379074</td>\n",
       "      <td>0.511279</td>\n",
       "      <td>-0.706698</td>\n",
       "      <td>3.000000</td>\n",
       "    </tr>\n",
       "    <tr>\n",
       "      <th>std</th>\n",
       "      <td>0.645463</td>\n",
       "      <td>0.774164</td>\n",
       "      <td>0.969379</td>\n",
       "      <td>0.602666</td>\n",
       "      <td>1.581139</td>\n",
       "    </tr>\n",
       "    <tr>\n",
       "      <th>min</th>\n",
       "      <td>-1.681371</td>\n",
       "      <td>-0.461192</td>\n",
       "      <td>-1.376463</td>\n",
       "      <td>-1.856762</td>\n",
       "      <td>1.000000</td>\n",
       "    </tr>\n",
       "    <tr>\n",
       "      <th>25%</th>\n",
       "      <td>-1.225093</td>\n",
       "      <td>-0.195937</td>\n",
       "      <td>0.467228</td>\n",
       "      <td>-0.638719</td>\n",
       "      <td>2.000000</td>\n",
       "    </tr>\n",
       "    <tr>\n",
       "      <th>50%</th>\n",
       "      <td>-0.667653</td>\n",
       "      <td>0.191159</td>\n",
       "      <td>0.947107</td>\n",
       "      <td>-0.584269</td>\n",
       "      <td>3.000000</td>\n",
       "    </tr>\n",
       "    <tr>\n",
       "      <th>75%</th>\n",
       "      <td>-0.209600</td>\n",
       "      <td>1.008709</td>\n",
       "      <td>1.065697</td>\n",
       "      <td>-0.519151</td>\n",
       "      <td>4.000000</td>\n",
       "    </tr>\n",
       "    <tr>\n",
       "      <th>max</th>\n",
       "      <td>-0.148894</td>\n",
       "      <td>1.397064</td>\n",
       "      <td>1.137429</td>\n",
       "      <td>-0.060573</td>\n",
       "      <td>5.000000</td>\n",
       "    </tr>\n",
       "  </tbody>\n",
       "</table>\n",
       "</div>"
      ],
      "text/plain": [
       "              A         B         C         D         F\n",
       "count  6.000000  6.000000  6.000000  6.000000  5.000000\n",
       "mean  -0.772232  0.379074  0.511279 -0.706698  3.000000\n",
       "std    0.645463  0.774164  0.969379  0.602666  1.581139\n",
       "min   -1.681371 -0.461192 -1.376463 -1.856762  1.000000\n",
       "25%   -1.225093 -0.195937  0.467228 -0.638719  2.000000\n",
       "50%   -0.667653  0.191159  0.947107 -0.584269  3.000000\n",
       "75%   -0.209600  1.008709  1.065697 -0.519151  4.000000\n",
       "max   -0.148894  1.397064  1.137429 -0.060573  5.000000"
      ]
     },
     "execution_count": 44,
     "metadata": {},
     "output_type": "execute_result"
    }
   ],
   "source": [
    "df.describe()"
   ]
  },
  {
   "cell_type": "code",
   "execution_count": 46,
   "metadata": {
    "collapsed": false,
    "slideshow": {
     "slide_type": "subslide"
    }
   },
   "outputs": [
    {
     "name": "stdout",
     "output_type": "stream",
     "text": [
      "A   -0.772232\n",
      "B    0.379074\n",
      "C    0.511279\n",
      "D   -0.706698\n",
      "F    3.000000\n",
      "dtype: float64\n"
     ]
    }
   ],
   "source": [
    "print (df.mean()) # Operation on two different axes"
   ]
  },
  {
   "cell_type": "code",
   "execution_count": 48,
   "metadata": {
    "collapsed": false
   },
   "outputs": [
    {
     "name": "stdout",
     "output_type": "stream",
     "text": [
      "2014-01-01   -0.399091\n",
      "2014-01-02    0.183073\n",
      "2014-01-03   -0.023702\n",
      "2014-01-04    0.824316\n",
      "2014-01-05    0.656153\n",
      "2014-01-06    0.973141\n",
      "Freq: D, dtype: float64\n"
     ]
    }
   ],
   "source": [
    "print (df.mean(1))"
   ]
  },
  {
   "cell_type": "markdown",
   "metadata": {
    "slideshow": {
     "slide_type": "slide"
    }
   },
   "source": [
    "### Applying functions"
   ]
  },
  {
   "cell_type": "code",
   "execution_count": 49,
   "metadata": {
    "collapsed": false,
    "slideshow": {
     "slide_type": "subslide"
    }
   },
   "outputs": [
    {
     "data": {
      "text/html": [
       "<div>\n",
       "<table border=\"1\" class=\"dataframe\">\n",
       "  <thead>\n",
       "    <tr style=\"text-align: right;\">\n",
       "      <th></th>\n",
       "      <th>A</th>\n",
       "      <th>B</th>\n",
       "      <th>C</th>\n",
       "      <th>D</th>\n",
       "      <th>F</th>\n",
       "    </tr>\n",
       "  </thead>\n",
       "  <tbody>\n",
       "    <tr>\n",
       "      <th>2014-01-01</th>\n",
       "      <td>-1.681371</td>\n",
       "      <td>-0.257142</td>\n",
       "      <td>0.840739</td>\n",
       "      <td>-0.498591</td>\n",
       "      <td>NaN</td>\n",
       "    </tr>\n",
       "    <tr>\n",
       "      <th>2014-01-02</th>\n",
       "      <td>-0.961338</td>\n",
       "      <td>0.394642</td>\n",
       "      <td>1.069771</td>\n",
       "      <td>-0.587708</td>\n",
       "      <td>1</td>\n",
       "    </tr>\n",
       "    <tr>\n",
       "      <th>2014-01-03</th>\n",
       "      <td>-0.148894</td>\n",
       "      <td>-0.012324</td>\n",
       "      <td>-1.376463</td>\n",
       "      <td>-0.580830</td>\n",
       "      <td>2</td>\n",
       "    </tr>\n",
       "    <tr>\n",
       "      <th>2014-01-04</th>\n",
       "      <td>-0.373968</td>\n",
       "      <td>1.213398</td>\n",
       "      <td>0.342724</td>\n",
       "      <td>-0.060573</td>\n",
       "      <td>3</td>\n",
       "    </tr>\n",
       "    <tr>\n",
       "      <th>2014-01-05</th>\n",
       "      <td>-1.313012</td>\n",
       "      <td>1.397064</td>\n",
       "      <td>1.053475</td>\n",
       "      <td>-1.856762</td>\n",
       "      <td>4</td>\n",
       "    </tr>\n",
       "    <tr>\n",
       "      <th>2014-01-06</th>\n",
       "      <td>-0.154810</td>\n",
       "      <td>-0.461192</td>\n",
       "      <td>1.137429</td>\n",
       "      <td>-0.655723</td>\n",
       "      <td>5</td>\n",
       "    </tr>\n",
       "  </tbody>\n",
       "</table>\n",
       "</div>"
      ],
      "text/plain": [
       "                   A         B         C         D   F\n",
       "2014-01-01 -1.681371 -0.257142  0.840739 -0.498591 NaN\n",
       "2014-01-02 -0.961338  0.394642  1.069771 -0.587708   1\n",
       "2014-01-03 -0.148894 -0.012324 -1.376463 -0.580830   2\n",
       "2014-01-04 -0.373968  1.213398  0.342724 -0.060573   3\n",
       "2014-01-05 -1.313012  1.397064  1.053475 -1.856762   4\n",
       "2014-01-06 -0.154810 -0.461192  1.137429 -0.655723   5"
      ]
     },
     "execution_count": 49,
     "metadata": {},
     "output_type": "execute_result"
    }
   ],
   "source": [
    "df"
   ]
  },
  {
   "cell_type": "code",
   "execution_count": 50,
   "metadata": {
    "collapsed": false,
    "slideshow": {
     "slide_type": "fragment"
    }
   },
   "outputs": [
    {
     "data": {
      "text/html": [
       "<div>\n",
       "<table border=\"1\" class=\"dataframe\">\n",
       "  <thead>\n",
       "    <tr style=\"text-align: right;\">\n",
       "      <th></th>\n",
       "      <th>A</th>\n",
       "      <th>B</th>\n",
       "      <th>C</th>\n",
       "      <th>D</th>\n",
       "      <th>F</th>\n",
       "    </tr>\n",
       "  </thead>\n",
       "  <tbody>\n",
       "    <tr>\n",
       "      <th>2014-01-01</th>\n",
       "      <td>-1.681371</td>\n",
       "      <td>-0.257142</td>\n",
       "      <td>0.840739</td>\n",
       "      <td>-0.498591</td>\n",
       "      <td>NaN</td>\n",
       "    </tr>\n",
       "    <tr>\n",
       "      <th>2014-01-02</th>\n",
       "      <td>-2.642709</td>\n",
       "      <td>0.137500</td>\n",
       "      <td>1.910509</td>\n",
       "      <td>-1.086299</td>\n",
       "      <td>1</td>\n",
       "    </tr>\n",
       "    <tr>\n",
       "      <th>2014-01-03</th>\n",
       "      <td>-2.791603</td>\n",
       "      <td>0.125177</td>\n",
       "      <td>0.534046</td>\n",
       "      <td>-1.667129</td>\n",
       "      <td>3</td>\n",
       "    </tr>\n",
       "    <tr>\n",
       "      <th>2014-01-04</th>\n",
       "      <td>-3.165571</td>\n",
       "      <td>1.338574</td>\n",
       "      <td>0.876770</td>\n",
       "      <td>-1.727702</td>\n",
       "      <td>6</td>\n",
       "    </tr>\n",
       "    <tr>\n",
       "      <th>2014-01-05</th>\n",
       "      <td>-4.478583</td>\n",
       "      <td>2.735639</td>\n",
       "      <td>1.930245</td>\n",
       "      <td>-3.584464</td>\n",
       "      <td>10</td>\n",
       "    </tr>\n",
       "    <tr>\n",
       "      <th>2014-01-06</th>\n",
       "      <td>-4.633394</td>\n",
       "      <td>2.274446</td>\n",
       "      <td>3.067674</td>\n",
       "      <td>-4.240187</td>\n",
       "      <td>15</td>\n",
       "    </tr>\n",
       "  </tbody>\n",
       "</table>\n",
       "</div>"
      ],
      "text/plain": [
       "                   A         B         C         D   F\n",
       "2014-01-01 -1.681371 -0.257142  0.840739 -0.498591 NaN\n",
       "2014-01-02 -2.642709  0.137500  1.910509 -1.086299   1\n",
       "2014-01-03 -2.791603  0.125177  0.534046 -1.667129   3\n",
       "2014-01-04 -3.165571  1.338574  0.876770 -1.727702   6\n",
       "2014-01-05 -4.478583  2.735639  1.930245 -3.584464  10\n",
       "2014-01-06 -4.633394  2.274446  3.067674 -4.240187  15"
      ]
     },
     "execution_count": 50,
     "metadata": {},
     "output_type": "execute_result"
    }
   ],
   "source": [
    "df.apply(np.cumsum)"
   ]
  },
  {
   "cell_type": "code",
   "execution_count": 51,
   "metadata": {
    "collapsed": false,
    "slideshow": {
     "slide_type": "fragment"
    }
   },
   "outputs": [
    {
     "data": {
      "text/plain": [
       "A    1.532477\n",
       "B    1.858257\n",
       "C    2.513892\n",
       "D    1.796189\n",
       "F    4.000000\n",
       "dtype: float64"
      ]
     },
     "execution_count": 51,
     "metadata": {},
     "output_type": "execute_result"
    }
   ],
   "source": [
    "df.apply(lambda x: x.max() - x.min())"
   ]
  },
  {
   "cell_type": "code",
   "execution_count": 52,
   "metadata": {
    "collapsed": false,
    "slideshow": {
     "slide_type": "subslide"
    }
   },
   "outputs": [
    {
     "data": {
      "text/plain": [
       "0       a\n",
       "1       b\n",
       "2       c\n",
       "3    aaba\n",
       "4    baca\n",
       "5     NaN\n",
       "6    caba\n",
       "7     dog\n",
       "8     cat\n",
       "dtype: object"
      ]
     },
     "execution_count": 52,
     "metadata": {},
     "output_type": "execute_result"
    }
   ],
   "source": [
    "# Built in string methods\n",
    "s = pd.Series(['A', 'B', 'C', 'Aaba', 'Baca', np.nan, 'CABA', 'dog', 'cat'])\n",
    "s.str.lower()"
   ]
  },
  {
   "cell_type": "markdown",
   "metadata": {
    "slideshow": {
     "slide_type": "subslide"
    }
   },
   "source": [
    "### Merge"
   ]
  },
  {
   "cell_type": "code",
   "execution_count": 53,
   "metadata": {
    "collapsed": false,
    "slideshow": {
     "slide_type": "subslide"
    }
   },
   "outputs": [
    {
     "data": {
      "text/plain": [
       "array([[ 0.34411826,  0.73816128, -2.16368949,  0.2213865 ],\n",
       "       [ 1.3958367 , -1.45138077,  0.51006145,  0.42066872],\n",
       "       [ 0.53421564, -1.16221796, -0.95187746, -0.2507846 ],\n",
       "       [-1.90304459,  1.53840091,  0.21475155, -1.07758241],\n",
       "       [-0.85591795,  0.39655243, -0.24200218,  0.26629357],\n",
       "       [ 2.29948715,  0.23082695, -0.02638773,  1.40848904],\n",
       "       [-0.06041236,  1.07521715, -0.27764575,  2.06502025],\n",
       "       [ 1.29157443, -0.89114866, -0.47844847, -0.34016484],\n",
       "       [-1.30712327,  0.37225155,  0.43732989, -0.38622513],\n",
       "       [-1.0888123 ,  0.22109508, -1.19211047, -0.03877035]])"
      ]
     },
     "execution_count": 53,
     "metadata": {},
     "output_type": "execute_result"
    }
   ],
   "source": [
    "np.random.randn(10,4)"
   ]
  },
  {
   "cell_type": "code",
   "execution_count": 54,
   "metadata": {
    "collapsed": false,
    "scrolled": true,
    "slideshow": {
     "slide_type": "subslide"
    }
   },
   "outputs": [
    {
     "data": {
      "text/html": [
       "<div>\n",
       "<table border=\"1\" class=\"dataframe\">\n",
       "  <thead>\n",
       "    <tr style=\"text-align: right;\">\n",
       "      <th></th>\n",
       "      <th>0</th>\n",
       "      <th>1</th>\n",
       "      <th>2</th>\n",
       "      <th>3</th>\n",
       "    </tr>\n",
       "  </thead>\n",
       "  <tbody>\n",
       "    <tr>\n",
       "      <th>0</th>\n",
       "      <td>1.652873</td>\n",
       "      <td>0.635272</td>\n",
       "      <td>-1.429779</td>\n",
       "      <td>-1.231115</td>\n",
       "    </tr>\n",
       "    <tr>\n",
       "      <th>1</th>\n",
       "      <td>-0.663142</td>\n",
       "      <td>-0.592701</td>\n",
       "      <td>-1.556844</td>\n",
       "      <td>-0.499428</td>\n",
       "    </tr>\n",
       "    <tr>\n",
       "      <th>2</th>\n",
       "      <td>-1.986158</td>\n",
       "      <td>-1.037503</td>\n",
       "      <td>1.272494</td>\n",
       "      <td>0.893997</td>\n",
       "    </tr>\n",
       "    <tr>\n",
       "      <th>3</th>\n",
       "      <td>-1.177153</td>\n",
       "      <td>-0.808034</td>\n",
       "      <td>1.138427</td>\n",
       "      <td>-0.650022</td>\n",
       "    </tr>\n",
       "    <tr>\n",
       "      <th>4</th>\n",
       "      <td>-0.059750</td>\n",
       "      <td>-0.161260</td>\n",
       "      <td>-0.284105</td>\n",
       "      <td>-0.660716</td>\n",
       "    </tr>\n",
       "    <tr>\n",
       "      <th>5</th>\n",
       "      <td>0.405241</td>\n",
       "      <td>-0.635216</td>\n",
       "      <td>1.574954</td>\n",
       "      <td>-0.365948</td>\n",
       "    </tr>\n",
       "    <tr>\n",
       "      <th>6</th>\n",
       "      <td>-0.749878</td>\n",
       "      <td>1.012150</td>\n",
       "      <td>0.700190</td>\n",
       "      <td>1.270632</td>\n",
       "    </tr>\n",
       "    <tr>\n",
       "      <th>7</th>\n",
       "      <td>1.430636</td>\n",
       "      <td>-0.164334</td>\n",
       "      <td>0.040329</td>\n",
       "      <td>0.840650</td>\n",
       "    </tr>\n",
       "    <tr>\n",
       "      <th>8</th>\n",
       "      <td>1.109914</td>\n",
       "      <td>0.234054</td>\n",
       "      <td>-1.912764</td>\n",
       "      <td>-1.149777</td>\n",
       "    </tr>\n",
       "    <tr>\n",
       "      <th>9</th>\n",
       "      <td>0.429437</td>\n",
       "      <td>-0.842616</td>\n",
       "      <td>-0.219961</td>\n",
       "      <td>-0.175819</td>\n",
       "    </tr>\n",
       "  </tbody>\n",
       "</table>\n",
       "</div>"
      ],
      "text/plain": [
       "          0         1         2         3\n",
       "0  1.652873  0.635272 -1.429779 -1.231115\n",
       "1 -0.663142 -0.592701 -1.556844 -0.499428\n",
       "2 -1.986158 -1.037503  1.272494  0.893997\n",
       "3 -1.177153 -0.808034  1.138427 -0.650022\n",
       "4 -0.059750 -0.161260 -0.284105 -0.660716\n",
       "5  0.405241 -0.635216  1.574954 -0.365948\n",
       "6 -0.749878  1.012150  0.700190  1.270632\n",
       "7  1.430636 -0.164334  0.040329  0.840650\n",
       "8  1.109914  0.234054 -1.912764 -1.149777\n",
       "9  0.429437 -0.842616 -0.219961 -0.175819"
      ]
     },
     "execution_count": 54,
     "metadata": {},
     "output_type": "execute_result"
    }
   ],
   "source": [
    "#Concatenating pandas objects together\n",
    "df = pd.DataFrame(np.random.randn(10,4))\n",
    "df"
   ]
  },
  {
   "cell_type": "code",
   "execution_count": 55,
   "metadata": {
    "collapsed": false,
    "slideshow": {
     "slide_type": "subslide"
    }
   },
   "outputs": [
    {
     "data": {
      "text/plain": [
       "[          0         1         2         3\n",
       " 0  1.652873  0.635272 -1.429779 -1.231115\n",
       " 1 -0.663142 -0.592701 -1.556844 -0.499428\n",
       " 2 -1.986158 -1.037503  1.272494  0.893997,\n",
       "           0         1         2         3\n",
       " 3 -1.177153 -0.808034  1.138427 -0.650022\n",
       " 4 -0.059750 -0.161260 -0.284105 -0.660716\n",
       " 5  0.405241 -0.635216  1.574954 -0.365948\n",
       " 6 -0.749878  1.012150  0.700190  1.270632,\n",
       "           0         1         2         3\n",
       " 7  1.430636 -0.164334  0.040329  0.840650\n",
       " 8  1.109914  0.234054 -1.912764 -1.149777\n",
       " 9  0.429437 -0.842616 -0.219961 -0.175819]"
      ]
     },
     "execution_count": 55,
     "metadata": {},
     "output_type": "execute_result"
    }
   ],
   "source": [
    "# Break it into pieces\n",
    "pieces = [df[:3], df[3:7],df[7:]]\n",
    "pieces"
   ]
  },
  {
   "cell_type": "code",
   "execution_count": 56,
   "metadata": {
    "collapsed": false,
    "slideshow": {
     "slide_type": "fragment"
    }
   },
   "outputs": [
    {
     "data": {
      "text/html": [
       "<div>\n",
       "<table border=\"1\" class=\"dataframe\">\n",
       "  <thead>\n",
       "    <tr style=\"text-align: right;\">\n",
       "      <th></th>\n",
       "      <th>0</th>\n",
       "      <th>1</th>\n",
       "      <th>2</th>\n",
       "      <th>3</th>\n",
       "    </tr>\n",
       "  </thead>\n",
       "  <tbody>\n",
       "    <tr>\n",
       "      <th>0</th>\n",
       "      <td>1.652873</td>\n",
       "      <td>0.635272</td>\n",
       "      <td>-1.429779</td>\n",
       "      <td>-1.231115</td>\n",
       "    </tr>\n",
       "    <tr>\n",
       "      <th>1</th>\n",
       "      <td>-0.663142</td>\n",
       "      <td>-0.592701</td>\n",
       "      <td>-1.556844</td>\n",
       "      <td>-0.499428</td>\n",
       "    </tr>\n",
       "    <tr>\n",
       "      <th>2</th>\n",
       "      <td>-1.986158</td>\n",
       "      <td>-1.037503</td>\n",
       "      <td>1.272494</td>\n",
       "      <td>0.893997</td>\n",
       "    </tr>\n",
       "    <tr>\n",
       "      <th>3</th>\n",
       "      <td>-1.177153</td>\n",
       "      <td>-0.808034</td>\n",
       "      <td>1.138427</td>\n",
       "      <td>-0.650022</td>\n",
       "    </tr>\n",
       "    <tr>\n",
       "      <th>4</th>\n",
       "      <td>-0.059750</td>\n",
       "      <td>-0.161260</td>\n",
       "      <td>-0.284105</td>\n",
       "      <td>-0.660716</td>\n",
       "    </tr>\n",
       "    <tr>\n",
       "      <th>5</th>\n",
       "      <td>0.405241</td>\n",
       "      <td>-0.635216</td>\n",
       "      <td>1.574954</td>\n",
       "      <td>-0.365948</td>\n",
       "    </tr>\n",
       "    <tr>\n",
       "      <th>6</th>\n",
       "      <td>-0.749878</td>\n",
       "      <td>1.012150</td>\n",
       "      <td>0.700190</td>\n",
       "      <td>1.270632</td>\n",
       "    </tr>\n",
       "    <tr>\n",
       "      <th>7</th>\n",
       "      <td>1.430636</td>\n",
       "      <td>-0.164334</td>\n",
       "      <td>0.040329</td>\n",
       "      <td>0.840650</td>\n",
       "    </tr>\n",
       "    <tr>\n",
       "      <th>8</th>\n",
       "      <td>1.109914</td>\n",
       "      <td>0.234054</td>\n",
       "      <td>-1.912764</td>\n",
       "      <td>-1.149777</td>\n",
       "    </tr>\n",
       "    <tr>\n",
       "      <th>9</th>\n",
       "      <td>0.429437</td>\n",
       "      <td>-0.842616</td>\n",
       "      <td>-0.219961</td>\n",
       "      <td>-0.175819</td>\n",
       "    </tr>\n",
       "  </tbody>\n",
       "</table>\n",
       "</div>"
      ],
      "text/plain": [
       "          0         1         2         3\n",
       "0  1.652873  0.635272 -1.429779 -1.231115\n",
       "1 -0.663142 -0.592701 -1.556844 -0.499428\n",
       "2 -1.986158 -1.037503  1.272494  0.893997\n",
       "3 -1.177153 -0.808034  1.138427 -0.650022\n",
       "4 -0.059750 -0.161260 -0.284105 -0.660716\n",
       "5  0.405241 -0.635216  1.574954 -0.365948\n",
       "6 -0.749878  1.012150  0.700190  1.270632\n",
       "7  1.430636 -0.164334  0.040329  0.840650\n",
       "8  1.109914  0.234054 -1.912764 -1.149777\n",
       "9  0.429437 -0.842616 -0.219961 -0.175819"
      ]
     },
     "execution_count": 56,
     "metadata": {},
     "output_type": "execute_result"
    }
   ],
   "source": [
    "pd.concat(pieces)"
   ]
  },
  {
   "cell_type": "code",
   "execution_count": 57,
   "metadata": {
    "collapsed": false,
    "slideshow": {
     "slide_type": "fragment"
    }
   },
   "outputs": [
    {
     "data": {
      "text/html": [
       "<div>\n",
       "<table border=\"1\" class=\"dataframe\">\n",
       "  <thead>\n",
       "    <tr style=\"text-align: right;\">\n",
       "      <th></th>\n",
       "      <th>0</th>\n",
       "      <th>1</th>\n",
       "      <th>2</th>\n",
       "      <th>3</th>\n",
       "    </tr>\n",
       "  </thead>\n",
       "  <tbody>\n",
       "    <tr>\n",
       "      <th>0</th>\n",
       "      <td>1.652873</td>\n",
       "      <td>0.635272</td>\n",
       "      <td>-1.429779</td>\n",
       "      <td>-1.231115</td>\n",
       "    </tr>\n",
       "    <tr>\n",
       "      <th>1</th>\n",
       "      <td>-0.663142</td>\n",
       "      <td>-0.592701</td>\n",
       "      <td>-1.556844</td>\n",
       "      <td>-0.499428</td>\n",
       "    </tr>\n",
       "    <tr>\n",
       "      <th>2</th>\n",
       "      <td>-1.986158</td>\n",
       "      <td>-1.037503</td>\n",
       "      <td>1.272494</td>\n",
       "      <td>0.893997</td>\n",
       "    </tr>\n",
       "    <tr>\n",
       "      <th>3</th>\n",
       "      <td>-1.177153</td>\n",
       "      <td>-0.808034</td>\n",
       "      <td>1.138427</td>\n",
       "      <td>-0.650022</td>\n",
       "    </tr>\n",
       "    <tr>\n",
       "      <th>4</th>\n",
       "      <td>-0.059750</td>\n",
       "      <td>-0.161260</td>\n",
       "      <td>-0.284105</td>\n",
       "      <td>-0.660716</td>\n",
       "    </tr>\n",
       "    <tr>\n",
       "      <th>5</th>\n",
       "      <td>0.405241</td>\n",
       "      <td>-0.635216</td>\n",
       "      <td>1.574954</td>\n",
       "      <td>-0.365948</td>\n",
       "    </tr>\n",
       "    <tr>\n",
       "      <th>6</th>\n",
       "      <td>-0.749878</td>\n",
       "      <td>1.012150</td>\n",
       "      <td>0.700190</td>\n",
       "      <td>1.270632</td>\n",
       "    </tr>\n",
       "    <tr>\n",
       "      <th>7</th>\n",
       "      <td>1.430636</td>\n",
       "      <td>-0.164334</td>\n",
       "      <td>0.040329</td>\n",
       "      <td>0.840650</td>\n",
       "    </tr>\n",
       "    <tr>\n",
       "      <th>8</th>\n",
       "      <td>1.109914</td>\n",
       "      <td>0.234054</td>\n",
       "      <td>-1.912764</td>\n",
       "      <td>-1.149777</td>\n",
       "    </tr>\n",
       "    <tr>\n",
       "      <th>9</th>\n",
       "      <td>0.429437</td>\n",
       "      <td>-0.842616</td>\n",
       "      <td>-0.219961</td>\n",
       "      <td>-0.175819</td>\n",
       "    </tr>\n",
       "  </tbody>\n",
       "</table>\n",
       "</div>"
      ],
      "text/plain": [
       "          0         1         2         3\n",
       "0  1.652873  0.635272 -1.429779 -1.231115\n",
       "1 -0.663142 -0.592701 -1.556844 -0.499428\n",
       "2 -1.986158 -1.037503  1.272494  0.893997\n",
       "3 -1.177153 -0.808034  1.138427 -0.650022\n",
       "4 -0.059750 -0.161260 -0.284105 -0.660716\n",
       "5  0.405241 -0.635216  1.574954 -0.365948\n",
       "6 -0.749878  1.012150  0.700190  1.270632\n",
       "7  1.430636 -0.164334  0.040329  0.840650\n",
       "8  1.109914  0.234054 -1.912764 -1.149777\n",
       "9  0.429437 -0.842616 -0.219961 -0.175819"
      ]
     },
     "execution_count": 57,
     "metadata": {},
     "output_type": "execute_result"
    }
   ],
   "source": [
    "# Also can \"Join\" and \"Append\"\n",
    "df"
   ]
  },
  {
   "cell_type": "markdown",
   "metadata": {
    "slideshow": {
     "slide_type": "subslide"
    }
   },
   "source": [
    "### Grouping\n"
   ]
  },
  {
   "cell_type": "code",
   "execution_count": null,
   "metadata": {
    "collapsed": false,
    "slideshow": {
     "slide_type": "subslide"
    }
   },
   "outputs": [],
   "source": [
    "df = pd.DataFrame({ 'A' : ['foo', 'bar', 'foo', 'bar',\n",
    "                           'foo', 'bar', 'foo', 'foo'],\n",
    "                    'B' : ['one', 'one', 'two', 'three',\n",
    "                           'two', 'two', 'one', 'three'],\n",
    "                    'C' : np.random.randn(8),\n",
    "                    'D' : np.random.randn(8)})"
   ]
  },
  {
   "cell_type": "code",
   "execution_count": null,
   "metadata": {
    "collapsed": false,
    "slideshow": {
     "slide_type": "fragment"
    }
   },
   "outputs": [],
   "source": [
    "df"
   ]
  },
  {
   "cell_type": "code",
   "execution_count": null,
   "metadata": {
    "collapsed": false,
    "slideshow": {
     "slide_type": "fragment"
    }
   },
   "outputs": [],
   "source": [
    "df.groupby(['A','B']).sum()"
   ]
  },
  {
   "cell_type": "markdown",
   "metadata": {
    "slideshow": {
     "slide_type": "subslide"
    }
   },
   "source": [
    "### Reshaping"
   ]
  },
  {
   "cell_type": "code",
   "execution_count": null,
   "metadata": {
    "collapsed": false,
    "slideshow": {
     "slide_type": "fragment"
    }
   },
   "outputs": [],
   "source": [
    "# You can also stack or unstack levels"
   ]
  },
  {
   "cell_type": "code",
   "execution_count": null,
   "metadata": {
    "collapsed": false,
    "slideshow": {
     "slide_type": "fragment"
    }
   },
   "outputs": [],
   "source": [
    "a = df.groupby(['A','B']).sum()"
   ]
  },
  {
   "cell_type": "code",
   "execution_count": null,
   "metadata": {
    "collapsed": true
   },
   "outputs": [],
   "source": [
    "pd.pivot_table?"
   ]
  },
  {
   "cell_type": "code",
   "execution_count": null,
   "metadata": {
    "collapsed": false,
    "slideshow": {
     "slide_type": "fragment"
    }
   },
   "outputs": [],
   "source": [
    "# Pivot Tables\n",
    "pd.pivot_table(df,values=['C','D'],index=['A'],columns=['B'])"
   ]
  },
  {
   "cell_type": "markdown",
   "metadata": {
    "slideshow": {
     "slide_type": "subslide"
    }
   },
   "source": [
    "### Time Series\n"
   ]
  },
  {
   "cell_type": "code",
   "execution_count": 58,
   "metadata": {
    "collapsed": false
   },
   "outputs": [],
   "source": [
    "import pandas as pd\n",
    "import numpy as np"
   ]
  },
  {
   "cell_type": "code",
   "execution_count": 59,
   "metadata": {
    "collapsed": false,
    "slideshow": {
     "slide_type": "fragment"
    }
   },
   "outputs": [],
   "source": [
    "# 100 Seconds starting on January 1st\n",
    "rng = pd.date_range('1/1/2014', periods=100, freq='S')"
   ]
  },
  {
   "cell_type": "code",
   "execution_count": 60,
   "metadata": {
    "collapsed": false,
    "slideshow": {
     "slide_type": "fragment"
    }
   },
   "outputs": [],
   "source": [
    "# Give each second a random value\n",
    "ts = pd.Series(np.random.randint(0, 500, len(rng)), index=rng)"
   ]
  },
  {
   "cell_type": "code",
   "execution_count": 61,
   "metadata": {
    "collapsed": false,
    "slideshow": {
     "slide_type": "fragment"
    }
   },
   "outputs": [
    {
     "data": {
      "text/plain": [
       "2014-01-01 00:00:00    423\n",
       "2014-01-01 00:00:01    400\n",
       "2014-01-01 00:00:02    103\n",
       "2014-01-01 00:00:03    143\n",
       "2014-01-01 00:00:04    207\n",
       "2014-01-01 00:00:05      8\n",
       "2014-01-01 00:00:06    297\n",
       "2014-01-01 00:00:07     96\n",
       "2014-01-01 00:00:08    363\n",
       "2014-01-01 00:00:09    168\n",
       "2014-01-01 00:00:10    217\n",
       "2014-01-01 00:00:11    144\n",
       "2014-01-01 00:00:12    321\n",
       "2014-01-01 00:00:13     97\n",
       "2014-01-01 00:00:14    488\n",
       "2014-01-01 00:00:15    106\n",
       "2014-01-01 00:00:16    110\n",
       "2014-01-01 00:00:17    344\n",
       "2014-01-01 00:00:18    313\n",
       "2014-01-01 00:00:19    431\n",
       "2014-01-01 00:00:20    463\n",
       "2014-01-01 00:00:21    216\n",
       "2014-01-01 00:00:22     96\n",
       "2014-01-01 00:00:23      7\n",
       "2014-01-01 00:00:24    234\n",
       "2014-01-01 00:00:25    452\n",
       "2014-01-01 00:00:26    352\n",
       "2014-01-01 00:00:27    446\n",
       "2014-01-01 00:00:28    112\n",
       "2014-01-01 00:00:29    143\n",
       "                      ... \n",
       "2014-01-01 00:01:10    424\n",
       "2014-01-01 00:01:11     91\n",
       "2014-01-01 00:01:12     72\n",
       "2014-01-01 00:01:13     16\n",
       "2014-01-01 00:01:14    332\n",
       "2014-01-01 00:01:15    428\n",
       "2014-01-01 00:01:16    152\n",
       "2014-01-01 00:01:17    408\n",
       "2014-01-01 00:01:18    113\n",
       "2014-01-01 00:01:19    370\n",
       "2014-01-01 00:01:20    278\n",
       "2014-01-01 00:01:21     25\n",
       "2014-01-01 00:01:22     37\n",
       "2014-01-01 00:01:23    119\n",
       "2014-01-01 00:01:24    296\n",
       "2014-01-01 00:01:25     36\n",
       "2014-01-01 00:01:26    233\n",
       "2014-01-01 00:01:27    277\n",
       "2014-01-01 00:01:28    117\n",
       "2014-01-01 00:01:29    419\n",
       "2014-01-01 00:01:30    485\n",
       "2014-01-01 00:01:31    426\n",
       "2014-01-01 00:01:32     79\n",
       "2014-01-01 00:01:33    215\n",
       "2014-01-01 00:01:34     52\n",
       "2014-01-01 00:01:35    480\n",
       "2014-01-01 00:01:36    360\n",
       "2014-01-01 00:01:37    262\n",
       "2014-01-01 00:01:38    273\n",
       "2014-01-01 00:01:39    447\n",
       "Freq: S, dtype: int64"
      ]
     },
     "execution_count": 61,
     "metadata": {},
     "output_type": "execute_result"
    }
   ],
   "source": [
    "ts"
   ]
  },
  {
   "cell_type": "code",
   "execution_count": 62,
   "metadata": {
    "collapsed": false,
    "slideshow": {
     "slide_type": "subslide"
    }
   },
   "outputs": [
    {
     "data": {
      "text/plain": [
       "2014-01-01 00:00:00    263.6\n",
       "2014-01-01 00:01:00    237.9\n",
       "Freq: T, dtype: float64"
      ]
     },
     "execution_count": 62,
     "metadata": {},
     "output_type": "execute_result"
    }
   ],
   "source": [
    "# Built in resampling\n",
    "ts.resample('1Min',how='mean') # Resample secondly to 1Minutely"
   ]
  },
  {
   "cell_type": "code",
   "execution_count": 63,
   "metadata": {
    "collapsed": false,
    "slideshow": {
     "slide_type": "slide"
    }
   },
   "outputs": [
    {
     "ename": "SyntaxError",
     "evalue": "invalid syntax (<ipython-input-63-5c9240a56f62>, line 2)",
     "output_type": "error",
     "traceback": [
      "\u001b[0;36m  File \u001b[0;32m\"<ipython-input-63-5c9240a56f62>\"\u001b[0;36m, line \u001b[0;32m2\u001b[0m\n\u001b[0;31m    ts. #use tab\u001b[0m\n\u001b[0m                ^\u001b[0m\n\u001b[0;31mSyntaxError\u001b[0m\u001b[0;31m:\u001b[0m invalid syntax\n"
     ]
    }
   ],
   "source": [
    "# Many additional time series features\n",
    "ts. #use tab"
   ]
  },
  {
   "cell_type": "markdown",
   "metadata": {
    "slideshow": {
     "slide_type": "slide"
    }
   },
   "source": [
    "### Plotting\n"
   ]
  },
  {
   "cell_type": "code",
   "execution_count": 64,
   "metadata": {
    "collapsed": false,
    "slideshow": {
     "slide_type": "subslide"
    }
   },
   "outputs": [],
   "source": [
    "%matplotlib inline"
   ]
  },
  {
   "cell_type": "code",
   "execution_count": 65,
   "metadata": {
    "collapsed": false
   },
   "outputs": [
    {
     "data": {
      "text/plain": [
       "<matplotlib.axes._subplots.AxesSubplot at 0x10a284e10>"
      ]
     },
     "execution_count": 65,
     "metadata": {},
     "output_type": "execute_result"
    },
    {
     "data": {
      "image/png": "[encoded data removed]",
      "text/plain": [
       "<matplotlib.figure.Figure at 0x10a28f240>"
      ]
     },
     "metadata": {},
     "output_type": "display_data"
    }
   ],
   "source": [
    "ts.plot()"
   ]
  },
  {
   "cell_type": "code",
   "execution_count": 66,
   "metadata": {
    "collapsed": false,
    "slideshow": {
     "slide_type": "subslide"
    }
   },
   "outputs": [],
   "source": [
    "def randwalk(startdate,points):\n",
    "    ts = pd.Series(np.random.randn(points), index=pd.date_range(startdate, periods=points))\n",
    "    ts=ts.cumsum()\n",
    "    ts.plot()\n",
    "    return(ts)"
   ]
  },
  {
   "cell_type": "code",
   "execution_count": 67,
   "metadata": {
    "collapsed": false,
    "slideshow": {
     "slide_type": "fragment"
    }
   },
   "outputs": [
    {
     "data": {
      "image/png": "[encoded data removed]",
      "text/plain": [
       "<matplotlib.figure.Figure at 0x10a547a90>"
      ]
     },
     "metadata": {},
     "output_type": "display_data"
    }
   ],
   "source": [
    "# Using pandas to make a simple random walker by repeatedly running:\n",
    "a=randwalk('1/1/2012',1000)"
   ]
  },
  {
   "cell_type": "code",
   "execution_count": 68,
   "metadata": {
    "collapsed": false,
    "slideshow": {
     "slide_type": "subslide"
    }
   },
   "outputs": [],
   "source": [
    "# Pandas plot function will print with labels as default"
   ]
  },
  {
   "cell_type": "code",
   "execution_count": 69,
   "metadata": {
    "collapsed": false,
    "slideshow": {
     "slide_type": "fragment"
    }
   },
   "outputs": [
    {
     "data": {
      "text/plain": [
       "<matplotlib.legend.Legend at 0x10a49ecf8>"
      ]
     },
     "execution_count": 69,
     "metadata": {},
     "output_type": "execute_result"
    },
    {
     "data": {
      "text/plain": [
       "<matplotlib.figure.Figure at 0x10a437240>"
      ]
     },
     "metadata": {},
     "output_type": "display_data"
    },
    {
     "data": {
      "image/png": "[encoded data removed]",
      "text/plain": [
       "<matplotlib.figure.Figure at 0x10a547b70>"
      ]
     },
     "metadata": {},
     "output_type": "display_data"
    }
   ],
   "source": [
    "df = pd.DataFrame(np.random.randn(100, 4), index=ts.index,columns=['A', 'B', 'C', 'D'])\n",
    "df = df.cumsum()\n",
    "plt.figure();df.plot();plt.legend(loc='best') #"
   ]
  },
  {
   "cell_type": "markdown",
   "metadata": {
    "slideshow": {
     "slide_type": "subslide"
    }
   },
   "source": [
    "### I/O\n",
    "I/O is straightforward with, for example, pd.read_csv or df.to_csv"
   ]
  },
  {
   "cell_type": "code",
   "execution_count": 70,
   "metadata": {
    "collapsed": true
   },
   "outputs": [],
   "source": [
    "df = pd.read_csv('../assets/dataset/citibike_feb2014.csv')"
   ]
  },
  {
   "cell_type": "code",
   "execution_count": 71,
   "metadata": {
    "collapsed": false
   },
   "outputs": [
    {
     "data": {
      "text/html": [
       "<div>\n",
       "<table border=\"1\" class=\"dataframe\">\n",
       "  <thead>\n",
       "    <tr style=\"text-align: right;\">\n",
       "      <th></th>\n",
       "      <th>tripduration</th>\n",
       "      <th>starttime</th>\n",
       "      <th>stoptime</th>\n",
       "      <th>start station id</th>\n",
       "      <th>start station name</th>\n",
       "      <th>start station latitude</th>\n",
       "      <th>start station longitude</th>\n",
       "      <th>end station id</th>\n",
       "      <th>end station name</th>\n",
       "      <th>end station latitude</th>\n",
       "      <th>end station longitude</th>\n",
       "      <th>bikeid</th>\n",
       "      <th>usertype</th>\n",
       "      <th>birth year</th>\n",
       "      <th>gender</th>\n",
       "    </tr>\n",
       "  </thead>\n",
       "  <tbody>\n",
       "    <tr>\n",
       "      <th>0</th>\n",
       "      <td>382</td>\n",
       "      <td>2014-02-01 00:00:00</td>\n",
       "      <td>2014-02-01 00:06:22</td>\n",
       "      <td>294</td>\n",
       "      <td>Washington Square E</td>\n",
       "      <td>40.730494</td>\n",
       "      <td>-73.995721</td>\n",
       "      <td>265</td>\n",
       "      <td>Stanton St &amp; Chrystie St</td>\n",
       "      <td>40.722293</td>\n",
       "      <td>-73.991475</td>\n",
       "      <td>21101</td>\n",
       "      <td>Subscriber</td>\n",
       "      <td>1991</td>\n",
       "      <td>1</td>\n",
       "    </tr>\n",
       "    <tr>\n",
       "      <th>1</th>\n",
       "      <td>372</td>\n",
       "      <td>2014-02-01 00:00:03</td>\n",
       "      <td>2014-02-01 00:06:15</td>\n",
       "      <td>285</td>\n",
       "      <td>Broadway &amp; E 14 St</td>\n",
       "      <td>40.734546</td>\n",
       "      <td>-73.990741</td>\n",
       "      <td>439</td>\n",
       "      <td>E 4 St &amp; 2 Ave</td>\n",
       "      <td>40.726281</td>\n",
       "      <td>-73.989780</td>\n",
       "      <td>15456</td>\n",
       "      <td>Subscriber</td>\n",
       "      <td>1979</td>\n",
       "      <td>2</td>\n",
       "    </tr>\n",
       "    <tr>\n",
       "      <th>2</th>\n",
       "      <td>591</td>\n",
       "      <td>2014-02-01 00:00:09</td>\n",
       "      <td>2014-02-01 00:10:00</td>\n",
       "      <td>247</td>\n",
       "      <td>Perry St &amp; Bleecker St</td>\n",
       "      <td>40.735354</td>\n",
       "      <td>-74.004831</td>\n",
       "      <td>251</td>\n",
       "      <td>Mott St &amp; Prince St</td>\n",
       "      <td>40.723180</td>\n",
       "      <td>-73.994800</td>\n",
       "      <td>16281</td>\n",
       "      <td>Subscriber</td>\n",
       "      <td>1948</td>\n",
       "      <td>2</td>\n",
       "    </tr>\n",
       "    <tr>\n",
       "      <th>3</th>\n",
       "      <td>583</td>\n",
       "      <td>2014-02-01 00:00:32</td>\n",
       "      <td>2014-02-01 00:10:15</td>\n",
       "      <td>357</td>\n",
       "      <td>E 11 St &amp; Broadway</td>\n",
       "      <td>40.732618</td>\n",
       "      <td>-73.991580</td>\n",
       "      <td>284</td>\n",
       "      <td>Greenwich Ave &amp; 8 Ave</td>\n",
       "      <td>40.739017</td>\n",
       "      <td>-74.002638</td>\n",
       "      <td>17400</td>\n",
       "      <td>Subscriber</td>\n",
       "      <td>1981</td>\n",
       "      <td>1</td>\n",
       "    </tr>\n",
       "    <tr>\n",
       "      <th>4</th>\n",
       "      <td>223</td>\n",
       "      <td>2014-02-01 00:00:41</td>\n",
       "      <td>2014-02-01 00:04:24</td>\n",
       "      <td>401</td>\n",
       "      <td>Allen St &amp; Rivington St</td>\n",
       "      <td>40.720196</td>\n",
       "      <td>-73.989978</td>\n",
       "      <td>439</td>\n",
       "      <td>E 4 St &amp; 2 Ave</td>\n",
       "      <td>40.726281</td>\n",
       "      <td>-73.989780</td>\n",
       "      <td>19341</td>\n",
       "      <td>Subscriber</td>\n",
       "      <td>1990</td>\n",
       "      <td>1</td>\n",
       "    </tr>\n",
       "    <tr>\n",
       "      <th>5</th>\n",
       "      <td>541</td>\n",
       "      <td>2014-02-01 00:00:46</td>\n",
       "      <td>2014-02-01 00:09:47</td>\n",
       "      <td>152</td>\n",
       "      <td>Warren St &amp; Church St</td>\n",
       "      <td>40.714740</td>\n",
       "      <td>-74.009106</td>\n",
       "      <td>331</td>\n",
       "      <td>Pike St &amp; Monroe St</td>\n",
       "      <td>40.711731</td>\n",
       "      <td>-73.991930</td>\n",
       "      <td>18674</td>\n",
       "      <td>Subscriber</td>\n",
       "      <td>1990</td>\n",
       "      <td>1</td>\n",
       "    </tr>\n",
       "    <tr>\n",
       "      <th>6</th>\n",
       "      <td>354</td>\n",
       "      <td>2014-02-01 00:01:01</td>\n",
       "      <td>2014-02-01 00:06:55</td>\n",
       "      <td>325</td>\n",
       "      <td>E 19 St &amp; 3 Ave</td>\n",
       "      <td>40.736245</td>\n",
       "      <td>-73.984738</td>\n",
       "      <td>439</td>\n",
       "      <td>E 4 St &amp; 2 Ave</td>\n",
       "      <td>40.726281</td>\n",
       "      <td>-73.989780</td>\n",
       "      <td>16975</td>\n",
       "      <td>Subscriber</td>\n",
       "      <td>1991</td>\n",
       "      <td>1</td>\n",
       "    </tr>\n",
       "    <tr>\n",
       "      <th>7</th>\n",
       "      <td>916</td>\n",
       "      <td>2014-02-01 00:01:11</td>\n",
       "      <td>2014-02-01 00:16:27</td>\n",
       "      <td>354</td>\n",
       "      <td>Emerson Pl &amp; Myrtle Ave</td>\n",
       "      <td>40.693631</td>\n",
       "      <td>-73.962236</td>\n",
       "      <td>395</td>\n",
       "      <td>Bond St &amp; Schermerhorn St</td>\n",
       "      <td>40.688070</td>\n",
       "      <td>-73.984106</td>\n",
       "      <td>16020</td>\n",
       "      <td>Subscriber</td>\n",
       "      <td>1978</td>\n",
       "      <td>1</td>\n",
       "    </tr>\n",
       "    <tr>\n",
       "      <th>8</th>\n",
       "      <td>277</td>\n",
       "      <td>2014-02-01 00:01:33</td>\n",
       "      <td>2014-02-01 00:06:10</td>\n",
       "      <td>375</td>\n",
       "      <td>Mercer St &amp; Bleecker St</td>\n",
       "      <td>40.726795</td>\n",
       "      <td>-73.996951</td>\n",
       "      <td>369</td>\n",
       "      <td>Washington Pl &amp; 6 Ave</td>\n",
       "      <td>40.732241</td>\n",
       "      <td>-74.000264</td>\n",
       "      <td>18891</td>\n",
       "      <td>Subscriber</td>\n",
       "      <td>1944</td>\n",
       "      <td>1</td>\n",
       "    </tr>\n",
       "    <tr>\n",
       "      <th>9</th>\n",
       "      <td>439</td>\n",
       "      <td>2014-02-01 00:02:14</td>\n",
       "      <td>2014-02-01 00:09:33</td>\n",
       "      <td>285</td>\n",
       "      <td>Broadway &amp; E 14 St</td>\n",
       "      <td>40.734546</td>\n",
       "      <td>-73.990741</td>\n",
       "      <td>247</td>\n",
       "      <td>Perry St &amp; Bleecker St</td>\n",
       "      <td>40.735354</td>\n",
       "      <td>-74.004831</td>\n",
       "      <td>20875</td>\n",
       "      <td>Subscriber</td>\n",
       "      <td>1983</td>\n",
       "      <td>2</td>\n",
       "    </tr>\n",
       "    <tr>\n",
       "      <th>10</th>\n",
       "      <td>959</td>\n",
       "      <td>2014-02-01 00:02:17</td>\n",
       "      <td>2014-02-01 00:18:16</td>\n",
       "      <td>518</td>\n",
       "      <td>E 39 St &amp; 2 Ave</td>\n",
       "      <td>40.747804</td>\n",
       "      <td>-73.973442</td>\n",
       "      <td>439</td>\n",
       "      <td>E 4 St &amp; 2 Ave</td>\n",
       "      <td>40.726281</td>\n",
       "      <td>-73.989780</td>\n",
       "      <td>15263</td>\n",
       "      <td>Subscriber</td>\n",
       "      <td>1969</td>\n",
       "      <td>1</td>\n",
       "    </tr>\n",
       "    <tr>\n",
       "      <th>11</th>\n",
       "      <td>359</td>\n",
       "      <td>2014-02-01 00:02:35</td>\n",
       "      <td>2014-02-01 00:08:34</td>\n",
       "      <td>501</td>\n",
       "      <td>FDR Drive &amp; E 35 St</td>\n",
       "      <td>40.744219</td>\n",
       "      <td>-73.971212</td>\n",
       "      <td>487</td>\n",
       "      <td>E 20 St &amp; FDR Drive</td>\n",
       "      <td>40.733143</td>\n",
       "      <td>-73.975739</td>\n",
       "      <td>19377</td>\n",
       "      <td>Subscriber</td>\n",
       "      <td>1986</td>\n",
       "      <td>1</td>\n",
       "    </tr>\n",
       "    <tr>\n",
       "      <th>12</th>\n",
       "      <td>1040</td>\n",
       "      <td>2014-02-01 00:02:37</td>\n",
       "      <td>2014-02-01 00:19:57</td>\n",
       "      <td>388</td>\n",
       "      <td>W 26 St &amp; 10 Ave</td>\n",
       "      <td>40.749718</td>\n",
       "      <td>-74.002950</td>\n",
       "      <td>336</td>\n",
       "      <td>Sullivan St &amp; Washington Sq</td>\n",
       "      <td>40.730477</td>\n",
       "      <td>-73.999061</td>\n",
       "      <td>17271</td>\n",
       "      <td>Subscriber</td>\n",
       "      <td>1981</td>\n",
       "      <td>1</td>\n",
       "    </tr>\n",
       "    <tr>\n",
       "      <th>13</th>\n",
       "      <td>477</td>\n",
       "      <td>2014-02-01 00:02:42</td>\n",
       "      <td>2014-02-01 00:10:39</td>\n",
       "      <td>518</td>\n",
       "      <td>E 39 St &amp; 2 Ave</td>\n",
       "      <td>40.747804</td>\n",
       "      <td>-73.973442</td>\n",
       "      <td>528</td>\n",
       "      <td>2 Ave &amp; E 31 St</td>\n",
       "      <td>40.742909</td>\n",
       "      <td>-73.977061</td>\n",
       "      <td>19366</td>\n",
       "      <td>Subscriber</td>\n",
       "      <td>1990</td>\n",
       "      <td>1</td>\n",
       "    </tr>\n",
       "    <tr>\n",
       "      <th>14</th>\n",
       "      <td>707</td>\n",
       "      <td>2014-02-01 00:02:50</td>\n",
       "      <td>2014-02-01 00:14:37</td>\n",
       "      <td>257</td>\n",
       "      <td>Lispenard St &amp; Broadway</td>\n",
       "      <td>40.719392</td>\n",
       "      <td>-74.002472</td>\n",
       "      <td>345</td>\n",
       "      <td>W 13 St &amp; 6 Ave</td>\n",
       "      <td>40.736494</td>\n",
       "      <td>-73.997044</td>\n",
       "      <td>17757</td>\n",
       "      <td>Subscriber</td>\n",
       "      <td>1962</td>\n",
       "      <td>1</td>\n",
       "    </tr>\n",
       "    <tr>\n",
       "      <th>15</th>\n",
       "      <td>343</td>\n",
       "      <td>2014-02-01 00:03:16</td>\n",
       "      <td>2014-02-01 00:08:59</td>\n",
       "      <td>477</td>\n",
       "      <td>W 41 St &amp; 8 Ave</td>\n",
       "      <td>40.756405</td>\n",
       "      <td>-73.990026</td>\n",
       "      <td>493</td>\n",
       "      <td>W 45 St &amp; 6 Ave</td>\n",
       "      <td>40.756800</td>\n",
       "      <td>-73.982912</td>\n",
       "      <td>19734</td>\n",
       "      <td>Subscriber</td>\n",
       "      <td>1965</td>\n",
       "      <td>1</td>\n",
       "    </tr>\n",
       "    <tr>\n",
       "      <th>16</th>\n",
       "      <td>813</td>\n",
       "      <td>2014-02-01 00:03:18</td>\n",
       "      <td>2014-02-01 00:16:51</td>\n",
       "      <td>317</td>\n",
       "      <td>E 6 St &amp; Avenue B</td>\n",
       "      <td>40.724537</td>\n",
       "      <td>-73.981854</td>\n",
       "      <td>223</td>\n",
       "      <td>W 13 St &amp; 7 Ave</td>\n",
       "      <td>40.737815</td>\n",
       "      <td>-73.999947</td>\n",
       "      <td>18003</td>\n",
       "      <td>Subscriber</td>\n",
       "      <td>1942</td>\n",
       "      <td>1</td>\n",
       "    </tr>\n",
       "    <tr>\n",
       "      <th>17</th>\n",
       "      <td>1491</td>\n",
       "      <td>2014-02-01 00:03:18</td>\n",
       "      <td>2014-02-01 00:28:09</td>\n",
       "      <td>527</td>\n",
       "      <td>E 33 St &amp; 1 Ave</td>\n",
       "      <td>40.743156</td>\n",
       "      <td>-73.974347</td>\n",
       "      <td>412</td>\n",
       "      <td>Forsyth St &amp; Canal St</td>\n",
       "      <td>40.715816</td>\n",
       "      <td>-73.994224</td>\n",
       "      <td>17630</td>\n",
       "      <td>Subscriber</td>\n",
       "      <td>1986</td>\n",
       "      <td>1</td>\n",
       "    </tr>\n",
       "    <tr>\n",
       "      <th>18</th>\n",
       "      <td>292</td>\n",
       "      <td>2014-02-01 00:04:02</td>\n",
       "      <td>2014-02-01 00:08:54</td>\n",
       "      <td>504</td>\n",
       "      <td>1 Ave &amp; E 15 St</td>\n",
       "      <td>40.732219</td>\n",
       "      <td>-73.981656</td>\n",
       "      <td>487</td>\n",
       "      <td>E 20 St &amp; FDR Drive</td>\n",
       "      <td>40.733143</td>\n",
       "      <td>-73.975739</td>\n",
       "      <td>16115</td>\n",
       "      <td>Subscriber</td>\n",
       "      <td>1989</td>\n",
       "      <td>2</td>\n",
       "    </tr>\n",
       "    <tr>\n",
       "      <th>19</th>\n",
       "      <td>259</td>\n",
       "      <td>2014-02-01 00:05:21</td>\n",
       "      <td>2014-02-01 00:09:40</td>\n",
       "      <td>316</td>\n",
       "      <td>Fulton St &amp; William St</td>\n",
       "      <td>40.709560</td>\n",
       "      <td>-74.006536</td>\n",
       "      <td>415</td>\n",
       "      <td>Pearl St &amp; Hanover Square</td>\n",
       "      <td>40.704718</td>\n",
       "      <td>-74.009260</td>\n",
       "      <td>20152</td>\n",
       "      <td>Subscriber</td>\n",
       "      <td>1980</td>\n",
       "      <td>2</td>\n",
       "    </tr>\n",
       "    <tr>\n",
       "      <th>20</th>\n",
       "      <td>231</td>\n",
       "      <td>2014-02-01 00:05:23</td>\n",
       "      <td>2014-02-01 00:09:14</td>\n",
       "      <td>490</td>\n",
       "      <td>8 Ave &amp; W 33 St</td>\n",
       "      <td>40.751551</td>\n",
       "      <td>-73.993934</td>\n",
       "      <td>512</td>\n",
       "      <td>W 29 St &amp; 9 Ave</td>\n",
       "      <td>40.750073</td>\n",
       "      <td>-73.998393</td>\n",
       "      <td>17141</td>\n",
       "      <td>Subscriber</td>\n",
       "      <td>1990</td>\n",
       "      <td>1</td>\n",
       "    </tr>\n",
       "    <tr>\n",
       "      <th>21</th>\n",
       "      <td>458</td>\n",
       "      <td>2014-02-01 00:05:44</td>\n",
       "      <td>2014-02-01 00:13:22</td>\n",
       "      <td>518</td>\n",
       "      <td>E 39 St &amp; 2 Ave</td>\n",
       "      <td>40.747804</td>\n",
       "      <td>-73.973442</td>\n",
       "      <td>326</td>\n",
       "      <td>E 11 St &amp; 1 Ave</td>\n",
       "      <td>40.729538</td>\n",
       "      <td>-73.984267</td>\n",
       "      <td>20774</td>\n",
       "      <td>Subscriber</td>\n",
       "      <td>1957</td>\n",
       "      <td>1</td>\n",
       "    </tr>\n",
       "    <tr>\n",
       "      <th>22</th>\n",
       "      <td>297</td>\n",
       "      <td>2014-02-01 00:05:49</td>\n",
       "      <td>2014-02-01 00:10:46</td>\n",
       "      <td>450</td>\n",
       "      <td>W 49 St &amp; 8 Ave</td>\n",
       "      <td>40.762272</td>\n",
       "      <td>-73.987882</td>\n",
       "      <td>479</td>\n",
       "      <td>9 Ave &amp; W 45 St</td>\n",
       "      <td>40.760193</td>\n",
       "      <td>-73.991255</td>\n",
       "      <td>21025</td>\n",
       "      <td>Subscriber</td>\n",
       "      <td>1951</td>\n",
       "      <td>2</td>\n",
       "    </tr>\n",
       "    <tr>\n",
       "      <th>23</th>\n",
       "      <td>497</td>\n",
       "      <td>2014-02-01 00:06:15</td>\n",
       "      <td>2014-02-01 00:14:32</td>\n",
       "      <td>300</td>\n",
       "      <td>Shevchenko Pl &amp; E 6 St</td>\n",
       "      <td>40.728145</td>\n",
       "      <td>-73.990214</td>\n",
       "      <td>174</td>\n",
       "      <td>E 25 St &amp; 1 Ave</td>\n",
       "      <td>40.738177</td>\n",
       "      <td>-73.977387</td>\n",
       "      <td>14827</td>\n",
       "      <td>Subscriber</td>\n",
       "      <td>1992</td>\n",
       "      <td>1</td>\n",
       "    </tr>\n",
       "    <tr>\n",
       "      <th>24</th>\n",
       "      <td>378</td>\n",
       "      <td>2014-02-01 00:06:18</td>\n",
       "      <td>2014-02-01 00:12:36</td>\n",
       "      <td>474</td>\n",
       "      <td>5 Ave &amp; E 29 St</td>\n",
       "      <td>40.745168</td>\n",
       "      <td>-73.986831</td>\n",
       "      <td>442</td>\n",
       "      <td>W 27 St &amp; 7 Ave</td>\n",
       "      <td>40.746647</td>\n",
       "      <td>-73.993915</td>\n",
       "      <td>20157</td>\n",
       "      <td>Subscriber</td>\n",
       "      <td>1971</td>\n",
       "      <td>2</td>\n",
       "    </tr>\n",
       "    <tr>\n",
       "      <th>25</th>\n",
       "      <td>695</td>\n",
       "      <td>2014-02-01 00:06:53</td>\n",
       "      <td>2014-02-01 00:18:28</td>\n",
       "      <td>490</td>\n",
       "      <td>8 Ave &amp; W 33 St</td>\n",
       "      <td>40.751551</td>\n",
       "      <td>-73.993934</td>\n",
       "      <td>468</td>\n",
       "      <td>Broadway &amp; W 55 St</td>\n",
       "      <td>40.765265</td>\n",
       "      <td>-73.981923</td>\n",
       "      <td>21122</td>\n",
       "      <td>Subscriber</td>\n",
       "      <td>1979</td>\n",
       "      <td>1</td>\n",
       "    </tr>\n",
       "    <tr>\n",
       "      <th>26</th>\n",
       "      <td>189</td>\n",
       "      <td>2014-02-01 00:07:00</td>\n",
       "      <td>2014-02-01 00:10:09</td>\n",
       "      <td>540</td>\n",
       "      <td>Lexington Ave &amp; E 26 St</td>\n",
       "      <td>40.741473</td>\n",
       "      <td>-73.983209</td>\n",
       "      <td>507</td>\n",
       "      <td>E 25 St &amp; 2 Ave</td>\n",
       "      <td>40.739126</td>\n",
       "      <td>-73.979738</td>\n",
       "      <td>14945</td>\n",
       "      <td>Subscriber</td>\n",
       "      <td>1990</td>\n",
       "      <td>2</td>\n",
       "    </tr>\n",
       "    <tr>\n",
       "      <th>27</th>\n",
       "      <td>286</td>\n",
       "      <td>2014-02-01 00:07:03</td>\n",
       "      <td>2014-02-01 00:11:49</td>\n",
       "      <td>347</td>\n",
       "      <td>W Houston St &amp; Hudson St</td>\n",
       "      <td>40.728739</td>\n",
       "      <td>-74.007488</td>\n",
       "      <td>346</td>\n",
       "      <td>Bank St &amp; Hudson St</td>\n",
       "      <td>40.736529</td>\n",
       "      <td>-74.006180</td>\n",
       "      <td>16842</td>\n",
       "      <td>Subscriber</td>\n",
       "      <td>1982</td>\n",
       "      <td>1</td>\n",
       "    </tr>\n",
       "    <tr>\n",
       "      <th>28</th>\n",
       "      <td>892</td>\n",
       "      <td>2014-02-01 00:07:22</td>\n",
       "      <td>2014-02-01 00:22:14</td>\n",
       "      <td>499</td>\n",
       "      <td>Broadway &amp; W 60 St</td>\n",
       "      <td>40.769155</td>\n",
       "      <td>-73.981918</td>\n",
       "      <td>490</td>\n",
       "      <td>8 Ave &amp; W 33 St</td>\n",
       "      <td>40.751551</td>\n",
       "      <td>-73.993934</td>\n",
       "      <td>20799</td>\n",
       "      <td>Subscriber</td>\n",
       "      <td>1968</td>\n",
       "      <td>1</td>\n",
       "    </tr>\n",
       "    <tr>\n",
       "      <th>29</th>\n",
       "      <td>636</td>\n",
       "      <td>2014-02-01 00:08:25</td>\n",
       "      <td>2014-02-01 00:19:01</td>\n",
       "      <td>285</td>\n",
       "      <td>Broadway &amp; E 14 St</td>\n",
       "      <td>40.734546</td>\n",
       "      <td>-73.990741</td>\n",
       "      <td>393</td>\n",
       "      <td>E 5 St &amp; Avenue C</td>\n",
       "      <td>40.722992</td>\n",
       "      <td>-73.979955</td>\n",
       "      <td>19764</td>\n",
       "      <td>Subscriber</td>\n",
       "      <td>1984</td>\n",
       "      <td>1</td>\n",
       "    </tr>\n",
       "    <tr>\n",
       "      <th>...</th>\n",
       "      <td>...</td>\n",
       "      <td>...</td>\n",
       "      <td>...</td>\n",
       "      <td>...</td>\n",
       "      <td>...</td>\n",
       "      <td>...</td>\n",
       "      <td>...</td>\n",
       "      <td>...</td>\n",
       "      <td>...</td>\n",
       "      <td>...</td>\n",
       "      <td>...</td>\n",
       "      <td>...</td>\n",
       "      <td>...</td>\n",
       "      <td>...</td>\n",
       "      <td>...</td>\n",
       "    </tr>\n",
       "    <tr>\n",
       "      <th>224706</th>\n",
       "      <td>608</td>\n",
       "      <td>2014-02-28 23:44:46</td>\n",
       "      <td>2014-02-28 23:54:54</td>\n",
       "      <td>498</td>\n",
       "      <td>Broadway &amp; W 32 St</td>\n",
       "      <td>40.748549</td>\n",
       "      <td>-73.988084</td>\n",
       "      <td>536</td>\n",
       "      <td>1 Ave &amp; E 30 St</td>\n",
       "      <td>40.741444</td>\n",
       "      <td>-73.975361</td>\n",
       "      <td>15609</td>\n",
       "      <td>Subscriber</td>\n",
       "      <td>1984</td>\n",
       "      <td>1</td>\n",
       "    </tr>\n",
       "    <tr>\n",
       "      <th>224707</th>\n",
       "      <td>638</td>\n",
       "      <td>2014-02-28 23:44:57</td>\n",
       "      <td>2014-02-28 23:55:35</td>\n",
       "      <td>294</td>\n",
       "      <td>Washington Square E</td>\n",
       "      <td>40.730494</td>\n",
       "      <td>-73.995721</td>\n",
       "      <td>349</td>\n",
       "      <td>Rivington St &amp; Ridge St</td>\n",
       "      <td>40.718502</td>\n",
       "      <td>-73.983299</td>\n",
       "      <td>16294</td>\n",
       "      <td>Subscriber</td>\n",
       "      <td>1990</td>\n",
       "      <td>1</td>\n",
       "    </tr>\n",
       "    <tr>\n",
       "      <th>224708</th>\n",
       "      <td>339</td>\n",
       "      <td>2014-02-28 23:45:03</td>\n",
       "      <td>2014-02-28 23:50:42</td>\n",
       "      <td>281</td>\n",
       "      <td>Grand Army Plaza &amp; Central Park S</td>\n",
       "      <td>40.764397</td>\n",
       "      <td>-73.973715</td>\n",
       "      <td>500</td>\n",
       "      <td>Broadway &amp; W 51 St</td>\n",
       "      <td>40.762288</td>\n",
       "      <td>-73.983362</td>\n",
       "      <td>19530</td>\n",
       "      <td>Subscriber</td>\n",
       "      <td>1970</td>\n",
       "      <td>1</td>\n",
       "    </tr>\n",
       "    <tr>\n",
       "      <th>224709</th>\n",
       "      <td>841</td>\n",
       "      <td>2014-02-28 23:45:06</td>\n",
       "      <td>2014-02-28 23:59:07</td>\n",
       "      <td>2012</td>\n",
       "      <td>E 27 St &amp; 1 Ave</td>\n",
       "      <td>40.739445</td>\n",
       "      <td>-73.976806</td>\n",
       "      <td>488</td>\n",
       "      <td>W 39 St &amp; 9 Ave</td>\n",
       "      <td>40.756458</td>\n",
       "      <td>-73.993722</td>\n",
       "      <td>14532</td>\n",
       "      <td>Subscriber</td>\n",
       "      <td>1984</td>\n",
       "      <td>1</td>\n",
       "    </tr>\n",
       "    <tr>\n",
       "      <th>224710</th>\n",
       "      <td>296</td>\n",
       "      <td>2014-02-28 23:45:25</td>\n",
       "      <td>2014-02-28 23:50:21</td>\n",
       "      <td>320</td>\n",
       "      <td>Church St &amp; Leonard St</td>\n",
       "      <td>40.717440</td>\n",
       "      <td>-74.005835</td>\n",
       "      <td>417</td>\n",
       "      <td>Barclay St &amp; Church St</td>\n",
       "      <td>40.712912</td>\n",
       "      <td>-74.010202</td>\n",
       "      <td>15013</td>\n",
       "      <td>Subscriber</td>\n",
       "      <td>1980</td>\n",
       "      <td>1</td>\n",
       "    </tr>\n",
       "    <tr>\n",
       "      <th>224711</th>\n",
       "      <td>282</td>\n",
       "      <td>2014-02-28 23:45:32</td>\n",
       "      <td>2014-02-28 23:50:14</td>\n",
       "      <td>320</td>\n",
       "      <td>Church St &amp; Leonard St</td>\n",
       "      <td>40.717440</td>\n",
       "      <td>-74.005835</td>\n",
       "      <td>417</td>\n",
       "      <td>Barclay St &amp; Church St</td>\n",
       "      <td>40.712912</td>\n",
       "      <td>-74.010202</td>\n",
       "      <td>20278</td>\n",
       "      <td>Subscriber</td>\n",
       "      <td>1982</td>\n",
       "      <td>1</td>\n",
       "    </tr>\n",
       "    <tr>\n",
       "      <th>224712</th>\n",
       "      <td>305</td>\n",
       "      <td>2014-02-28 23:47:34</td>\n",
       "      <td>2014-02-28 23:52:39</td>\n",
       "      <td>293</td>\n",
       "      <td>Lafayette St &amp; E 8 St</td>\n",
       "      <td>40.730287</td>\n",
       "      <td>-73.990765</td>\n",
       "      <td>432</td>\n",
       "      <td>E 7 St &amp; Avenue A</td>\n",
       "      <td>40.726218</td>\n",
       "      <td>-73.983799</td>\n",
       "      <td>20381</td>\n",
       "      <td>Subscriber</td>\n",
       "      <td>1954</td>\n",
       "      <td>1</td>\n",
       "    </tr>\n",
       "    <tr>\n",
       "      <th>224713</th>\n",
       "      <td>752</td>\n",
       "      <td>2014-02-28 23:48:21</td>\n",
       "      <td>2014-03-01 00:00:53</td>\n",
       "      <td>465</td>\n",
       "      <td>Broadway &amp; W 41 St</td>\n",
       "      <td>40.755136</td>\n",
       "      <td>-73.986580</td>\n",
       "      <td>472</td>\n",
       "      <td>E 32 St &amp; Park Ave</td>\n",
       "      <td>40.745712</td>\n",
       "      <td>-73.981948</td>\n",
       "      <td>17044</td>\n",
       "      <td>Subscriber</td>\n",
       "      <td>1997</td>\n",
       "      <td>1</td>\n",
       "    </tr>\n",
       "    <tr>\n",
       "      <th>224714</th>\n",
       "      <td>205</td>\n",
       "      <td>2014-02-28 23:48:40</td>\n",
       "      <td>2014-02-28 23:52:05</td>\n",
       "      <td>449</td>\n",
       "      <td>W 52 St &amp; 9 Ave</td>\n",
       "      <td>40.764618</td>\n",
       "      <td>-73.987895</td>\n",
       "      <td>479</td>\n",
       "      <td>9 Ave &amp; W 45 St</td>\n",
       "      <td>40.760193</td>\n",
       "      <td>-73.991255</td>\n",
       "      <td>16407</td>\n",
       "      <td>Subscriber</td>\n",
       "      <td>1980</td>\n",
       "      <td>1</td>\n",
       "    </tr>\n",
       "    <tr>\n",
       "      <th>224715</th>\n",
       "      <td>187</td>\n",
       "      <td>2014-02-28 23:48:54</td>\n",
       "      <td>2014-02-28 23:52:01</td>\n",
       "      <td>427</td>\n",
       "      <td>State St</td>\n",
       "      <td>40.702515</td>\n",
       "      <td>-74.014270</td>\n",
       "      <td>363</td>\n",
       "      <td>West Thames St</td>\n",
       "      <td>40.708347</td>\n",
       "      <td>-74.017134</td>\n",
       "      <td>18387</td>\n",
       "      <td>Subscriber</td>\n",
       "      <td>1981</td>\n",
       "      <td>1</td>\n",
       "    </tr>\n",
       "    <tr>\n",
       "      <th>224716</th>\n",
       "      <td>586</td>\n",
       "      <td>2014-02-28 23:49:03</td>\n",
       "      <td>2014-02-28 23:58:49</td>\n",
       "      <td>465</td>\n",
       "      <td>Broadway &amp; W 41 St</td>\n",
       "      <td>40.755136</td>\n",
       "      <td>-73.986580</td>\n",
       "      <td>472</td>\n",
       "      <td>E 32 St &amp; Park Ave</td>\n",
       "      <td>40.745712</td>\n",
       "      <td>-73.981948</td>\n",
       "      <td>21333</td>\n",
       "      <td>Subscriber</td>\n",
       "      <td>1957</td>\n",
       "      <td>1</td>\n",
       "    </tr>\n",
       "    <tr>\n",
       "      <th>224717</th>\n",
       "      <td>136</td>\n",
       "      <td>2014-02-28 23:49:07</td>\n",
       "      <td>2014-02-28 23:51:23</td>\n",
       "      <td>361</td>\n",
       "      <td>Allen St &amp; Hester St</td>\n",
       "      <td>40.716059</td>\n",
       "      <td>-73.991908</td>\n",
       "      <td>307</td>\n",
       "      <td>Canal St &amp; Rutgers St</td>\n",
       "      <td>40.714275</td>\n",
       "      <td>-73.989900</td>\n",
       "      <td>19016</td>\n",
       "      <td>Subscriber</td>\n",
       "      <td>1982</td>\n",
       "      <td>1</td>\n",
       "    </tr>\n",
       "    <tr>\n",
       "      <th>224718</th>\n",
       "      <td>531</td>\n",
       "      <td>2014-02-28 23:49:11</td>\n",
       "      <td>2014-02-28 23:58:02</td>\n",
       "      <td>330</td>\n",
       "      <td>Reade St &amp; Broadway</td>\n",
       "      <td>40.714505</td>\n",
       "      <td>-74.005628</td>\n",
       "      <td>473</td>\n",
       "      <td>Rivington St &amp; Chrystie St</td>\n",
       "      <td>40.721101</td>\n",
       "      <td>-73.991925</td>\n",
       "      <td>15248</td>\n",
       "      <td>Subscriber</td>\n",
       "      <td>1989</td>\n",
       "      <td>1</td>\n",
       "    </tr>\n",
       "    <tr>\n",
       "      <th>224719</th>\n",
       "      <td>646</td>\n",
       "      <td>2014-02-28 23:49:13</td>\n",
       "      <td>2014-02-28 23:59:59</td>\n",
       "      <td>116</td>\n",
       "      <td>W 17 St &amp; 8 Ave</td>\n",
       "      <td>40.741776</td>\n",
       "      <td>-74.001497</td>\n",
       "      <td>461</td>\n",
       "      <td>E 20 St &amp; 2 Ave</td>\n",
       "      <td>40.735877</td>\n",
       "      <td>-73.982050</td>\n",
       "      <td>18643</td>\n",
       "      <td>Subscriber</td>\n",
       "      <td>1987</td>\n",
       "      <td>1</td>\n",
       "    </tr>\n",
       "    <tr>\n",
       "      <th>224720</th>\n",
       "      <td>528</td>\n",
       "      <td>2014-02-28 23:49:30</td>\n",
       "      <td>2014-02-28 23:58:18</td>\n",
       "      <td>285</td>\n",
       "      <td>Broadway &amp; E 14 St</td>\n",
       "      <td>40.734546</td>\n",
       "      <td>-73.990741</td>\n",
       "      <td>519</td>\n",
       "      <td>Pershing Square N</td>\n",
       "      <td>40.751884</td>\n",
       "      <td>-73.977702</td>\n",
       "      <td>16400</td>\n",
       "      <td>Subscriber</td>\n",
       "      <td>1988</td>\n",
       "      <td>1</td>\n",
       "    </tr>\n",
       "    <tr>\n",
       "      <th>224721</th>\n",
       "      <td>458</td>\n",
       "      <td>2014-02-28 23:49:42</td>\n",
       "      <td>2014-02-28 23:57:20</td>\n",
       "      <td>295</td>\n",
       "      <td>Pike St &amp; E Broadway</td>\n",
       "      <td>40.714067</td>\n",
       "      <td>-73.992939</td>\n",
       "      <td>341</td>\n",
       "      <td>Stanton St &amp; Mangin St</td>\n",
       "      <td>40.717821</td>\n",
       "      <td>-73.976289</td>\n",
       "      <td>18854</td>\n",
       "      <td>Subscriber</td>\n",
       "      <td>1964</td>\n",
       "      <td>1</td>\n",
       "    </tr>\n",
       "    <tr>\n",
       "      <th>224722</th>\n",
       "      <td>693</td>\n",
       "      <td>2014-02-28 23:50:14</td>\n",
       "      <td>2014-03-01 00:01:47</td>\n",
       "      <td>504</td>\n",
       "      <td>1 Ave &amp; E 15 St</td>\n",
       "      <td>40.732219</td>\n",
       "      <td>-73.981656</td>\n",
       "      <td>476</td>\n",
       "      <td>E 31 St &amp; 3 Ave</td>\n",
       "      <td>40.743943</td>\n",
       "      <td>-73.979661</td>\n",
       "      <td>20304</td>\n",
       "      <td>Subscriber</td>\n",
       "      <td>1984</td>\n",
       "      <td>1</td>\n",
       "    </tr>\n",
       "    <tr>\n",
       "      <th>224723</th>\n",
       "      <td>415</td>\n",
       "      <td>2014-02-28 23:50:48</td>\n",
       "      <td>2014-02-28 23:57:43</td>\n",
       "      <td>380</td>\n",
       "      <td>W 4 St &amp; 7 Ave S</td>\n",
       "      <td>40.734011</td>\n",
       "      <td>-74.002939</td>\n",
       "      <td>323</td>\n",
       "      <td>Lawrence St &amp; Willoughby St</td>\n",
       "      <td>40.692362</td>\n",
       "      <td>-73.986317</td>\n",
       "      <td>20136</td>\n",
       "      <td>Subscriber</td>\n",
       "      <td>1980</td>\n",
       "      <td>1</td>\n",
       "    </tr>\n",
       "    <tr>\n",
       "      <th>224724</th>\n",
       "      <td>359</td>\n",
       "      <td>2014-02-28 23:51:46</td>\n",
       "      <td>2014-02-28 23:57:45</td>\n",
       "      <td>150</td>\n",
       "      <td>E 2 St &amp; Avenue C</td>\n",
       "      <td>40.720874</td>\n",
       "      <td>-73.980858</td>\n",
       "      <td>332</td>\n",
       "      <td>Cherry St</td>\n",
       "      <td>40.712199</td>\n",
       "      <td>-73.979481</td>\n",
       "      <td>20506</td>\n",
       "      <td>Subscriber</td>\n",
       "      <td>1962</td>\n",
       "      <td>1</td>\n",
       "    </tr>\n",
       "    <tr>\n",
       "      <th>224725</th>\n",
       "      <td>229</td>\n",
       "      <td>2014-02-28 23:52:47</td>\n",
       "      <td>2014-02-28 23:56:36</td>\n",
       "      <td>433</td>\n",
       "      <td>E 13 St &amp; Avenue A</td>\n",
       "      <td>40.729554</td>\n",
       "      <td>-73.980572</td>\n",
       "      <td>487</td>\n",
       "      <td>E 20 St &amp; FDR Drive</td>\n",
       "      <td>40.733143</td>\n",
       "      <td>-73.975739</td>\n",
       "      <td>16813</td>\n",
       "      <td>Subscriber</td>\n",
       "      <td>1985</td>\n",
       "      <td>1</td>\n",
       "    </tr>\n",
       "    <tr>\n",
       "      <th>224726</th>\n",
       "      <td>982</td>\n",
       "      <td>2014-02-28 23:53:47</td>\n",
       "      <td>2014-03-01 00:10:09</td>\n",
       "      <td>512</td>\n",
       "      <td>W 29 St &amp; 9 Ave</td>\n",
       "      <td>40.750073</td>\n",
       "      <td>-73.998393</td>\n",
       "      <td>483</td>\n",
       "      <td>E 12 St &amp; 3 Ave</td>\n",
       "      <td>40.732233</td>\n",
       "      <td>-73.988900</td>\n",
       "      <td>18209</td>\n",
       "      <td>Subscriber</td>\n",
       "      <td>1989</td>\n",
       "      <td>1</td>\n",
       "    </tr>\n",
       "    <tr>\n",
       "      <th>224727</th>\n",
       "      <td>1210</td>\n",
       "      <td>2014-02-28 23:53:59</td>\n",
       "      <td>2014-03-01 00:14:09</td>\n",
       "      <td>312</td>\n",
       "      <td>Allen St &amp; E Houston St</td>\n",
       "      <td>40.722055</td>\n",
       "      <td>-73.989111</td>\n",
       "      <td>505</td>\n",
       "      <td>6 Ave &amp; W 33 St</td>\n",
       "      <td>40.749013</td>\n",
       "      <td>-73.988484</td>\n",
       "      <td>17073</td>\n",
       "      <td>Subscriber</td>\n",
       "      <td>1984</td>\n",
       "      <td>2</td>\n",
       "    </tr>\n",
       "    <tr>\n",
       "      <th>224728</th>\n",
       "      <td>988</td>\n",
       "      <td>2014-02-28 23:54:45</td>\n",
       "      <td>2014-03-01 00:11:13</td>\n",
       "      <td>428</td>\n",
       "      <td>E 3 St &amp; 1 Ave</td>\n",
       "      <td>40.724677</td>\n",
       "      <td>-73.987834</td>\n",
       "      <td>268</td>\n",
       "      <td>Howard St &amp; Centre St</td>\n",
       "      <td>40.719105</td>\n",
       "      <td>-73.999733</td>\n",
       "      <td>20813</td>\n",
       "      <td>Subscriber</td>\n",
       "      <td>1980</td>\n",
       "      <td>1</td>\n",
       "    </tr>\n",
       "    <tr>\n",
       "      <th>224729</th>\n",
       "      <td>267</td>\n",
       "      <td>2014-02-28 23:55:39</td>\n",
       "      <td>2014-03-01 00:00:06</td>\n",
       "      <td>301</td>\n",
       "      <td>E 2 St &amp; Avenue B</td>\n",
       "      <td>40.722174</td>\n",
       "      <td>-73.983688</td>\n",
       "      <td>403</td>\n",
       "      <td>E 2 St &amp; 2 Ave</td>\n",
       "      <td>40.725029</td>\n",
       "      <td>-73.990697</td>\n",
       "      <td>16937</td>\n",
       "      <td>Subscriber</td>\n",
       "      <td>1978</td>\n",
       "      <td>1</td>\n",
       "    </tr>\n",
       "    <tr>\n",
       "      <th>224730</th>\n",
       "      <td>175</td>\n",
       "      <td>2014-02-28 23:57:12</td>\n",
       "      <td>2014-03-01 00:00:07</td>\n",
       "      <td>383</td>\n",
       "      <td>Greenwich Ave &amp; Charles St</td>\n",
       "      <td>40.735238</td>\n",
       "      <td>-74.000271</td>\n",
       "      <td>284</td>\n",
       "      <td>Greenwich Ave &amp; 8 Ave</td>\n",
       "      <td>40.739017</td>\n",
       "      <td>-74.002638</td>\n",
       "      <td>15220</td>\n",
       "      <td>Subscriber</td>\n",
       "      <td>1956</td>\n",
       "      <td>1</td>\n",
       "    </tr>\n",
       "    <tr>\n",
       "      <th>224731</th>\n",
       "      <td>848</td>\n",
       "      <td>2014-02-28 23:57:13</td>\n",
       "      <td>2014-03-01 00:11:21</td>\n",
       "      <td>498</td>\n",
       "      <td>Broadway &amp; W 32 St</td>\n",
       "      <td>40.748549</td>\n",
       "      <td>-73.988084</td>\n",
       "      <td>432</td>\n",
       "      <td>E 7 St &amp; Avenue A</td>\n",
       "      <td>40.726218</td>\n",
       "      <td>-73.983799</td>\n",
       "      <td>17413</td>\n",
       "      <td>Subscriber</td>\n",
       "      <td>1976</td>\n",
       "      <td>1</td>\n",
       "    </tr>\n",
       "    <tr>\n",
       "      <th>224732</th>\n",
       "      <td>1355</td>\n",
       "      <td>2014-02-28 23:57:55</td>\n",
       "      <td>2014-03-01 00:20:30</td>\n",
       "      <td>470</td>\n",
       "      <td>W 20 St &amp; 8 Ave</td>\n",
       "      <td>40.743453</td>\n",
       "      <td>-74.000040</td>\n",
       "      <td>302</td>\n",
       "      <td>Avenue D &amp; E 3 St</td>\n",
       "      <td>40.720828</td>\n",
       "      <td>-73.977932</td>\n",
       "      <td>15608</td>\n",
       "      <td>Subscriber</td>\n",
       "      <td>1985</td>\n",
       "      <td>2</td>\n",
       "    </tr>\n",
       "    <tr>\n",
       "      <th>224733</th>\n",
       "      <td>304</td>\n",
       "      <td>2014-02-28 23:58:17</td>\n",
       "      <td>2014-03-01 00:03:21</td>\n",
       "      <td>497</td>\n",
       "      <td>E 17 St &amp; Broadway</td>\n",
       "      <td>40.737050</td>\n",
       "      <td>-73.990093</td>\n",
       "      <td>334</td>\n",
       "      <td>W 20 St &amp; 7 Ave</td>\n",
       "      <td>40.742388</td>\n",
       "      <td>-73.997262</td>\n",
       "      <td>17112</td>\n",
       "      <td>Subscriber</td>\n",
       "      <td>1968</td>\n",
       "      <td>1</td>\n",
       "    </tr>\n",
       "    <tr>\n",
       "      <th>224734</th>\n",
       "      <td>308</td>\n",
       "      <td>2014-02-28 23:59:10</td>\n",
       "      <td>2014-03-01 00:04:18</td>\n",
       "      <td>353</td>\n",
       "      <td>S Portland Ave &amp; Hanson Pl</td>\n",
       "      <td>40.685396</td>\n",
       "      <td>-73.974315</td>\n",
       "      <td>365</td>\n",
       "      <td>Fulton St &amp; Grand Ave</td>\n",
       "      <td>40.682232</td>\n",
       "      <td>-73.961458</td>\n",
       "      <td>14761</td>\n",
       "      <td>Subscriber</td>\n",
       "      <td>1982</td>\n",
       "      <td>1</td>\n",
       "    </tr>\n",
       "    <tr>\n",
       "      <th>224735</th>\n",
       "      <td>603</td>\n",
       "      <td>2014-02-28 23:59:47</td>\n",
       "      <td>2014-03-01 00:09:50</td>\n",
       "      <td>252</td>\n",
       "      <td>MacDougal St &amp; Washington Sq</td>\n",
       "      <td>40.732264</td>\n",
       "      <td>-73.998522</td>\n",
       "      <td>475</td>\n",
       "      <td>E 16 St &amp; Irving Pl</td>\n",
       "      <td>40.735243</td>\n",
       "      <td>-73.987586</td>\n",
       "      <td>18783</td>\n",
       "      <td>Subscriber</td>\n",
       "      <td>1960</td>\n",
       "      <td>1</td>\n",
       "    </tr>\n",
       "  </tbody>\n",
       "</table>\n",
       "<p>224736 rows × 15 columns</p>\n",
       "</div>"
      ],
      "text/plain": [
       "        tripduration            starttime             stoptime  \\\n",
       "0                382  2014-02-01 00:00:00  2014-02-01 00:06:22   \n",
       "1                372  2014-02-01 00:00:03  2014-02-01 00:06:15   \n",
       "2                591  2014-02-01 00:00:09  2014-02-01 00:10:00   \n",
       "3                583  2014-02-01 00:00:32  2014-02-01 00:10:15   \n",
       "4                223  2014-02-01 00:00:41  2014-02-01 00:04:24   \n",
       "5                541  2014-02-01 00:00:46  2014-02-01 00:09:47   \n",
       "6                354  2014-02-01 00:01:01  2014-02-01 00:06:55   \n",
       "7                916  2014-02-01 00:01:11  2014-02-01 00:16:27   \n",
       "8                277  2014-02-01 00:01:33  2014-02-01 00:06:10   \n",
       "9                439  2014-02-01 00:02:14  2014-02-01 00:09:33   \n",
       "10               959  2014-02-01 00:02:17  2014-02-01 00:18:16   \n",
       "11               359  2014-02-01 00:02:35  2014-02-01 00:08:34   \n",
       "12              1040  2014-02-01 00:02:37  2014-02-01 00:19:57   \n",
       "13               477  2014-02-01 00:02:42  2014-02-01 00:10:39   \n",
       "14               707  2014-02-01 00:02:50  2014-02-01 00:14:37   \n",
       "15               343  2014-02-01 00:03:16  2014-02-01 00:08:59   \n",
       "16               813  2014-02-01 00:03:18  2014-02-01 00:16:51   \n",
       "17              1491  2014-02-01 00:03:18  2014-02-01 00:28:09   \n",
       "18               292  2014-02-01 00:04:02  2014-02-01 00:08:54   \n",
       "19               259  2014-02-01 00:05:21  2014-02-01 00:09:40   \n",
       "20               231  2014-02-01 00:05:23  2014-02-01 00:09:14   \n",
       "21               458  2014-02-01 00:05:44  2014-02-01 00:13:22   \n",
       "22               297  2014-02-01 00:05:49  2014-02-01 00:10:46   \n",
       "23               497  2014-02-01 00:06:15  2014-02-01 00:14:32   \n",
       "24               378  2014-02-01 00:06:18  2014-02-01 00:12:36   \n",
       "25               695  2014-02-01 00:06:53  2014-02-01 00:18:28   \n",
       "26               189  2014-02-01 00:07:00  2014-02-01 00:10:09   \n",
       "27               286  2014-02-01 00:07:03  2014-02-01 00:11:49   \n",
       "28               892  2014-02-01 00:07:22  2014-02-01 00:22:14   \n",
       "29               636  2014-02-01 00:08:25  2014-02-01 00:19:01   \n",
       "...              ...                  ...                  ...   \n",
       "224706           608  2014-02-28 23:44:46  2014-02-28 23:54:54   \n",
       "224707           638  2014-02-28 23:44:57  2014-02-28 23:55:35   \n",
       "224708           339  2014-02-28 23:45:03  2014-02-28 23:50:42   \n",
       "224709           841  2014-02-28 23:45:06  2014-02-28 23:59:07   \n",
       "224710           296  2014-02-28 23:45:25  2014-02-28 23:50:21   \n",
       "224711           282  2014-02-28 23:45:32  2014-02-28 23:50:14   \n",
       "224712           305  2014-02-28 23:47:34  2014-02-28 23:52:39   \n",
       "224713           752  2014-02-28 23:48:21  2014-03-01 00:00:53   \n",
       "224714           205  2014-02-28 23:48:40  2014-02-28 23:52:05   \n",
       "224715           187  2014-02-28 23:48:54  2014-02-28 23:52:01   \n",
       "224716           586  2014-02-28 23:49:03  2014-02-28 23:58:49   \n",
       "224717           136  2014-02-28 23:49:07  2014-02-28 23:51:23   \n",
       "224718           531  2014-02-28 23:49:11  2014-02-28 23:58:02   \n",
       "224719           646  2014-02-28 23:49:13  2014-02-28 23:59:59   \n",
       "224720           528  2014-02-28 23:49:30  2014-02-28 23:58:18   \n",
       "224721           458  2014-02-28 23:49:42  2014-02-28 23:57:20   \n",
       "224722           693  2014-02-28 23:50:14  2014-03-01 00:01:47   \n",
       "224723           415  2014-02-28 23:50:48  2014-02-28 23:57:43   \n",
       "224724           359  2014-02-28 23:51:46  2014-02-28 23:57:45   \n",
       "224725           229  2014-02-28 23:52:47  2014-02-28 23:56:36   \n",
       "224726           982  2014-02-28 23:53:47  2014-03-01 00:10:09   \n",
       "224727          1210  2014-02-28 23:53:59  2014-03-01 00:14:09   \n",
       "224728           988  2014-02-28 23:54:45  2014-03-01 00:11:13   \n",
       "224729           267  2014-02-28 23:55:39  2014-03-01 00:00:06   \n",
       "224730           175  2014-02-28 23:57:12  2014-03-01 00:00:07   \n",
       "224731           848  2014-02-28 23:57:13  2014-03-01 00:11:21   \n",
       "224732          1355  2014-02-28 23:57:55  2014-03-01 00:20:30   \n",
       "224733           304  2014-02-28 23:58:17  2014-03-01 00:03:21   \n",
       "224734           308  2014-02-28 23:59:10  2014-03-01 00:04:18   \n",
       "224735           603  2014-02-28 23:59:47  2014-03-01 00:09:50   \n",
       "\n",
       "        start station id                 start station name  \\\n",
       "0                    294                Washington Square E   \n",
       "1                    285                 Broadway & E 14 St   \n",
       "2                    247             Perry St & Bleecker St   \n",
       "3                    357                 E 11 St & Broadway   \n",
       "4                    401            Allen St & Rivington St   \n",
       "5                    152              Warren St & Church St   \n",
       "6                    325                    E 19 St & 3 Ave   \n",
       "7                    354            Emerson Pl & Myrtle Ave   \n",
       "8                    375            Mercer St & Bleecker St   \n",
       "9                    285                 Broadway & E 14 St   \n",
       "10                   518                    E 39 St & 2 Ave   \n",
       "11                   501                FDR Drive & E 35 St   \n",
       "12                   388                   W 26 St & 10 Ave   \n",
       "13                   518                    E 39 St & 2 Ave   \n",
       "14                   257            Lispenard St & Broadway   \n",
       "15                   477                    W 41 St & 8 Ave   \n",
       "16                   317                  E 6 St & Avenue B   \n",
       "17                   527                    E 33 St & 1 Ave   \n",
       "18                   504                    1 Ave & E 15 St   \n",
       "19                   316             Fulton St & William St   \n",
       "20                   490                    8 Ave & W 33 St   \n",
       "21                   518                    E 39 St & 2 Ave   \n",
       "22                   450                    W 49 St & 8 Ave   \n",
       "23                   300             Shevchenko Pl & E 6 St   \n",
       "24                   474                    5 Ave & E 29 St   \n",
       "25                   490                    8 Ave & W 33 St   \n",
       "26                   540            Lexington Ave & E 26 St   \n",
       "27                   347           W Houston St & Hudson St   \n",
       "28                   499                 Broadway & W 60 St   \n",
       "29                   285                 Broadway & E 14 St   \n",
       "...                  ...                                ...   \n",
       "224706               498                 Broadway & W 32 St   \n",
       "224707               294                Washington Square E   \n",
       "224708               281  Grand Army Plaza & Central Park S   \n",
       "224709              2012                    E 27 St & 1 Ave   \n",
       "224710               320             Church St & Leonard St   \n",
       "224711               320             Church St & Leonard St   \n",
       "224712               293              Lafayette St & E 8 St   \n",
       "224713               465                 Broadway & W 41 St   \n",
       "224714               449                    W 52 St & 9 Ave   \n",
       "224715               427                           State St   \n",
       "224716               465                 Broadway & W 41 St   \n",
       "224717               361               Allen St & Hester St   \n",
       "224718               330                Reade St & Broadway   \n",
       "224719               116                    W 17 St & 8 Ave   \n",
       "224720               285                 Broadway & E 14 St   \n",
       "224721               295               Pike St & E Broadway   \n",
       "224722               504                    1 Ave & E 15 St   \n",
       "224723               380                   W 4 St & 7 Ave S   \n",
       "224724               150                  E 2 St & Avenue C   \n",
       "224725               433                 E 13 St & Avenue A   \n",
       "224726               512                    W 29 St & 9 Ave   \n",
       "224727               312            Allen St & E Houston St   \n",
       "224728               428                     E 3 St & 1 Ave   \n",
       "224729               301                  E 2 St & Avenue B   \n",
       "224730               383         Greenwich Ave & Charles St   \n",
       "224731               498                 Broadway & W 32 St   \n",
       "224732               470                    W 20 St & 8 Ave   \n",
       "224733               497                 E 17 St & Broadway   \n",
       "224734               353         S Portland Ave & Hanson Pl   \n",
       "224735               252       MacDougal St & Washington Sq   \n",
       "\n",
       "        start station latitude  start station longitude  end station id  \\\n",
       "0                    40.730494               -73.995721             265   \n",
       "1                    40.734546               -73.990741             439   \n",
       "2                    40.735354               -74.004831             251   \n",
       "3                    40.732618               -73.991580             284   \n",
       "4                    40.720196               -73.989978             439   \n",
       "5                    40.714740               -74.009106             331   \n",
       "6                    40.736245               -73.984738             439   \n",
       "7                    40.693631               -73.962236             395   \n",
       "8                    40.726795               -73.996951             369   \n",
       "9                    40.734546               -73.990741             247   \n",
       "10                   40.747804               -73.973442             439   \n",
       "11                   40.744219               -73.971212             487   \n",
       "12                   40.749718               -74.002950             336   \n",
       "13                   40.747804               -73.973442             528   \n",
       "14                   40.719392               -74.002472             345   \n",
       "15                   40.756405               -73.990026             493   \n",
       "16                   40.724537               -73.981854             223   \n",
       "17                   40.743156               -73.974347             412   \n",
       "18                   40.732219               -73.981656             487   \n",
       "19                   40.709560               -74.006536             415   \n",
       "20                   40.751551               -73.993934             512   \n",
       "21                   40.747804               -73.973442             326   \n",
       "22                   40.762272               -73.987882             479   \n",
       "23                   40.728145               -73.990214             174   \n",
       "24                   40.745168               -73.986831             442   \n",
       "25                   40.751551               -73.993934             468   \n",
       "26                   40.741473               -73.983209             507   \n",
       "27                   40.728739               -74.007488             346   \n",
       "28                   40.769155               -73.981918             490   \n",
       "29                   40.734546               -73.990741             393   \n",
       "...                        ...                      ...             ...   \n",
       "224706               40.748549               -73.988084             536   \n",
       "224707               40.730494               -73.995721             349   \n",
       "224708               40.764397               -73.973715             500   \n",
       "224709               40.739445               -73.976806             488   \n",
       "224710               40.717440               -74.005835             417   \n",
       "224711               40.717440               -74.005835             417   \n",
       "224712               40.730287               -73.990765             432   \n",
       "224713               40.755136               -73.986580             472   \n",
       "224714               40.764618               -73.987895             479   \n",
       "224715               40.702515               -74.014270             363   \n",
       "224716               40.755136               -73.986580             472   \n",
       "224717               40.716059               -73.991908             307   \n",
       "224718               40.714505               -74.005628             473   \n",
       "224719               40.741776               -74.001497             461   \n",
       "224720               40.734546               -73.990741             519   \n",
       "224721               40.714067               -73.992939             341   \n",
       "224722               40.732219               -73.981656             476   \n",
       "224723               40.734011               -74.002939             323   \n",
       "224724               40.720874               -73.980858             332   \n",
       "224725               40.729554               -73.980572             487   \n",
       "224726               40.750073               -73.998393             483   \n",
       "224727               40.722055               -73.989111             505   \n",
       "224728               40.724677               -73.987834             268   \n",
       "224729               40.722174               -73.983688             403   \n",
       "224730               40.735238               -74.000271             284   \n",
       "224731               40.748549               -73.988084             432   \n",
       "224732               40.743453               -74.000040             302   \n",
       "224733               40.737050               -73.990093             334   \n",
       "224734               40.685396               -73.974315             365   \n",
       "224735               40.732264               -73.998522             475   \n",
       "\n",
       "                   end station name  end station latitude  \\\n",
       "0          Stanton St & Chrystie St             40.722293   \n",
       "1                    E 4 St & 2 Ave             40.726281   \n",
       "2               Mott St & Prince St             40.723180   \n",
       "3             Greenwich Ave & 8 Ave             40.739017   \n",
       "4                    E 4 St & 2 Ave             40.726281   \n",
       "5               Pike St & Monroe St             40.711731   \n",
       "6                    E 4 St & 2 Ave             40.726281   \n",
       "7         Bond St & Schermerhorn St             40.688070   \n",
       "8             Washington Pl & 6 Ave             40.732241   \n",
       "9            Perry St & Bleecker St             40.735354   \n",
       "10                   E 4 St & 2 Ave             40.726281   \n",
       "11              E 20 St & FDR Drive             40.733143   \n",
       "12      Sullivan St & Washington Sq             40.730477   \n",
       "13                  2 Ave & E 31 St             40.742909   \n",
       "14                  W 13 St & 6 Ave             40.736494   \n",
       "15                  W 45 St & 6 Ave             40.756800   \n",
       "16                  W 13 St & 7 Ave             40.737815   \n",
       "17            Forsyth St & Canal St             40.715816   \n",
       "18              E 20 St & FDR Drive             40.733143   \n",
       "19        Pearl St & Hanover Square             40.704718   \n",
       "20                  W 29 St & 9 Ave             40.750073   \n",
       "21                  E 11 St & 1 Ave             40.729538   \n",
       "22                  9 Ave & W 45 St             40.760193   \n",
       "23                  E 25 St & 1 Ave             40.738177   \n",
       "24                  W 27 St & 7 Ave             40.746647   \n",
       "25               Broadway & W 55 St             40.765265   \n",
       "26                  E 25 St & 2 Ave             40.739126   \n",
       "27              Bank St & Hudson St             40.736529   \n",
       "28                  8 Ave & W 33 St             40.751551   \n",
       "29                E 5 St & Avenue C             40.722992   \n",
       "...                             ...                   ...   \n",
       "224706              1 Ave & E 30 St             40.741444   \n",
       "224707      Rivington St & Ridge St             40.718502   \n",
       "224708           Broadway & W 51 St             40.762288   \n",
       "224709              W 39 St & 9 Ave             40.756458   \n",
       "224710       Barclay St & Church St             40.712912   \n",
       "224711       Barclay St & Church St             40.712912   \n",
       "224712            E 7 St & Avenue A             40.726218   \n",
       "224713           E 32 St & Park Ave             40.745712   \n",
       "224714              9 Ave & W 45 St             40.760193   \n",
       "224715               West Thames St             40.708347   \n",
       "224716           E 32 St & Park Ave             40.745712   \n",
       "224717        Canal St & Rutgers St             40.714275   \n",
       "224718   Rivington St & Chrystie St             40.721101   \n",
       "224719              E 20 St & 2 Ave             40.735877   \n",
       "224720            Pershing Square N             40.751884   \n",
       "224721       Stanton St & Mangin St             40.717821   \n",
       "224722              E 31 St & 3 Ave             40.743943   \n",
       "224723  Lawrence St & Willoughby St             40.692362   \n",
       "224724                    Cherry St             40.712199   \n",
       "224725          E 20 St & FDR Drive             40.733143   \n",
       "224726              E 12 St & 3 Ave             40.732233   \n",
       "224727              6 Ave & W 33 St             40.749013   \n",
       "224728        Howard St & Centre St             40.719105   \n",
       "224729               E 2 St & 2 Ave             40.725029   \n",
       "224730        Greenwich Ave & 8 Ave             40.739017   \n",
       "224731            E 7 St & Avenue A             40.726218   \n",
       "224732            Avenue D & E 3 St             40.720828   \n",
       "224733              W 20 St & 7 Ave             40.742388   \n",
       "224734        Fulton St & Grand Ave             40.682232   \n",
       "224735          E 16 St & Irving Pl             40.735243   \n",
       "\n",
       "        end station longitude  bikeid    usertype birth year  gender  \n",
       "0                  -73.991475   21101  Subscriber       1991       1  \n",
       "1                  -73.989780   15456  Subscriber       1979       2  \n",
       "2                  -73.994800   16281  Subscriber       1948       2  \n",
       "3                  -74.002638   17400  Subscriber       1981       1  \n",
       "4                  -73.989780   19341  Subscriber       1990       1  \n",
       "5                  -73.991930   18674  Subscriber       1990       1  \n",
       "6                  -73.989780   16975  Subscriber       1991       1  \n",
       "7                  -73.984106   16020  Subscriber       1978       1  \n",
       "8                  -74.000264   18891  Subscriber       1944       1  \n",
       "9                  -74.004831   20875  Subscriber       1983       2  \n",
       "10                 -73.989780   15263  Subscriber       1969       1  \n",
       "11                 -73.975739   19377  Subscriber       1986       1  \n",
       "12                 -73.999061   17271  Subscriber       1981       1  \n",
       "13                 -73.977061   19366  Subscriber       1990       1  \n",
       "14                 -73.997044   17757  Subscriber       1962       1  \n",
       "15                 -73.982912   19734  Subscriber       1965       1  \n",
       "16                 -73.999947   18003  Subscriber       1942       1  \n",
       "17                 -73.994224   17630  Subscriber       1986       1  \n",
       "18                 -73.975739   16115  Subscriber       1989       2  \n",
       "19                 -74.009260   20152  Subscriber       1980       2  \n",
       "20                 -73.998393   17141  Subscriber       1990       1  \n",
       "21                 -73.984267   20774  Subscriber       1957       1  \n",
       "22                 -73.991255   21025  Subscriber       1951       2  \n",
       "23                 -73.977387   14827  Subscriber       1992       1  \n",
       "24                 -73.993915   20157  Subscriber       1971       2  \n",
       "25                 -73.981923   21122  Subscriber       1979       1  \n",
       "26                 -73.979738   14945  Subscriber       1990       2  \n",
       "27                 -74.006180   16842  Subscriber       1982       1  \n",
       "28                 -73.993934   20799  Subscriber       1968       1  \n",
       "29                 -73.979955   19764  Subscriber       1984       1  \n",
       "...                       ...     ...         ...        ...     ...  \n",
       "224706             -73.975361   15609  Subscriber       1984       1  \n",
       "224707             -73.983299   16294  Subscriber       1990       1  \n",
       "224708             -73.983362   19530  Subscriber       1970       1  \n",
       "224709             -73.993722   14532  Subscriber       1984       1  \n",
       "224710             -74.010202   15013  Subscriber       1980       1  \n",
       "224711             -74.010202   20278  Subscriber       1982       1  \n",
       "224712             -73.983799   20381  Subscriber       1954       1  \n",
       "224713             -73.981948   17044  Subscriber       1997       1  \n",
       "224714             -73.991255   16407  Subscriber       1980       1  \n",
       "224715             -74.017134   18387  Subscriber       1981       1  \n",
       "224716             -73.981948   21333  Subscriber       1957       1  \n",
       "224717             -73.989900   19016  Subscriber       1982       1  \n",
       "224718             -73.991925   15248  Subscriber       1989       1  \n",
       "224719             -73.982050   18643  Subscriber       1987       1  \n",
       "224720             -73.977702   16400  Subscriber       1988       1  \n",
       "224721             -73.976289   18854  Subscriber       1964       1  \n",
       "224722             -73.979661   20304  Subscriber       1984       1  \n",
       "224723             -73.986317   20136  Subscriber       1980       1  \n",
       "224724             -73.979481   20506  Subscriber       1962       1  \n",
       "224725             -73.975739   16813  Subscriber       1985       1  \n",
       "224726             -73.988900   18209  Subscriber       1989       1  \n",
       "224727             -73.988484   17073  Subscriber       1984       2  \n",
       "224728             -73.999733   20813  Subscriber       1980       1  \n",
       "224729             -73.990697   16937  Subscriber       1978       1  \n",
       "224730             -74.002638   15220  Subscriber       1956       1  \n",
       "224731             -73.983799   17413  Subscriber       1976       1  \n",
       "224732             -73.977932   15608  Subscriber       1985       2  \n",
       "224733             -73.997262   17112  Subscriber       1968       1  \n",
       "224734             -73.961458   14761  Subscriber       1982       1  \n",
       "224735             -73.987586   18783  Subscriber       1960       1  \n",
       "\n",
       "[224736 rows x 15 columns]"
      ]
     },
     "execution_count": 71,
     "metadata": {},
     "output_type": "execute_result"
    }
   ],
   "source": [
    "df"
   ]
  },
  {
   "cell_type": "markdown",
   "metadata": {
    "slideshow": {
     "slide_type": "subslide"
    }
   },
   "source": [
    "#### The benefits of open source:\n",
    "\n",
    "Let's look under x's in plt modules"
   ]
  },
  {
   "cell_type": "markdown",
   "metadata": {
    "slideshow": {
     "slide_type": "slide"
    }
   },
   "source": []
  },
  {
   "cell_type": "markdown",
   "metadata": {
    "slideshow": {
     "slide_type": "slide"
    }
   },
   "source": [
    "# Next Steps\n",
    "\n",
    "**Recommended Resources**\n",
    "\n",
    "Name | Description\n",
    "--- | ---\n",
    "[Official Pandas Tutorials](http://pandas.pydata.org/pandas-docs/stable/tutorials.html) | Wes & Company's selection of tutorials and lectures\n",
    "[Julia Evans Pandas Cookbook](https://github.com/jvns/pandas-cookbook) | Great resource with examples from weather, bikes and 311 calls\n",
    "[Learn Pandas Tutorials](https://bitbucket.org/hrojas/learn-pandas) | A great series of Pandas tutorials from Dave Rojas\n",
    "[Research Computing Python Data PYNBs](https://github.com/ResearchComputing/Meetup-Fall-2013/tree/master/python) | A super awesome set of python notebooks from a meetup-based course exclusively devoted to pandas"
   ]
  }
 ],
 "metadata": {
  "kernelspec": {
   "display_name": "Python 3",
   "language": "python",
   "name": "python3"
  },
  "language_info": {
   "codemirror_mode": {
    "name": "ipython",
    "version": 3
   },
   "file_extension": ".py",
   "mimetype": "text/x-python",
   "name": "python",
   "nbconvert_exporter": "python",
   "pygments_lexer": "ipython3",
   "version": "3.5.1"
  }
 },
 "nbformat": 4,
 "nbformat_minor": 0
}
